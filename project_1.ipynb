{
 "cells": [
  {
   "cell_type": "code",
   "execution_count": 1,
   "id": "65afaaba",
   "metadata": {},
   "outputs": [],
   "source": [
    "import numpy as np\n",
    "import matplotlib.pyplot as plt\n",
    "import pandas as pd\n",
    "import seaborn as sns"
   ]
  },
  {
   "cell_type": "code",
   "execution_count": 2,
   "id": "585f8ea9",
   "metadata": {},
   "outputs": [
    {
     "data": {
      "text/html": [
       "<div>\n",
       "<style scoped>\n",
       "    .dataframe tbody tr th:only-of-type {\n",
       "        vertical-align: middle;\n",
       "    }\n",
       "\n",
       "    .dataframe tbody tr th {\n",
       "        vertical-align: top;\n",
       "    }\n",
       "\n",
       "    .dataframe thead th {\n",
       "        text-align: right;\n",
       "    }\n",
       "</style>\n",
       "<table border=\"1\" class=\"dataframe\">\n",
       "  <thead>\n",
       "    <tr style=\"text-align: right;\">\n",
       "      <th></th>\n",
       "      <th>ID1</th>\n",
       "      <th>Specific ailments</th>\n",
       "      <th>ID2</th>\n",
       "      <th>Food preference</th>\n",
       "      <th>Age</th>\n",
       "      <th>BMI</th>\n",
       "      <th>Smoker?</th>\n",
       "      <th>Living in?</th>\n",
       "      <th>Any heriditary condition?</th>\n",
       "      <th>Follow Diet</th>\n",
       "      <th>Physical activity</th>\n",
       "      <th>Regular sleeping hours</th>\n",
       "      <th>Alcohol consumption</th>\n",
       "      <th>Social interaction</th>\n",
       "      <th>Taking supplements</th>\n",
       "      <th>Mental health management</th>\n",
       "      <th>Illness count last year</th>\n",
       "      <th>Healthy</th>\n",
       "    </tr>\n",
       "  </thead>\n",
       "  <tbody>\n",
       "    <tr>\n",
       "      <th>0</th>\n",
       "      <td>2408</td>\n",
       "      <td>44</td>\n",
       "      <td>2668</td>\n",
       "      <td>DX6</td>\n",
       "      <td>49</td>\n",
       "      <td>20.500470</td>\n",
       "      <td>NO</td>\n",
       "      <td>RURAL</td>\n",
       "      <td>Stable</td>\n",
       "      <td>1.0</td>\n",
       "      <td>0.0</td>\n",
       "      <td>0.0</td>\n",
       "      <td>0.0</td>\n",
       "      <td>0.0</td>\n",
       "      <td>0.0</td>\n",
       "      <td>0.0</td>\n",
       "      <td>1.0</td>\n",
       "      <td>1</td>\n",
       "    </tr>\n",
       "    <tr>\n",
       "      <th>1</th>\n",
       "      <td>25063</td>\n",
       "      <td>39</td>\n",
       "      <td>10363</td>\n",
       "      <td>DX3 DX4</td>\n",
       "      <td>20</td>\n",
       "      <td>26.076580</td>\n",
       "      <td>NO</td>\n",
       "      <td>URBAN</td>\n",
       "      <td>Stable</td>\n",
       "      <td>0.0</td>\n",
       "      <td>0.0</td>\n",
       "      <td>0.0</td>\n",
       "      <td>0.0</td>\n",
       "      <td>1.0</td>\n",
       "      <td>0.0</td>\n",
       "      <td>0.0</td>\n",
       "      <td>1.0</td>\n",
       "      <td>1</td>\n",
       "    </tr>\n",
       "    <tr>\n",
       "      <th>2</th>\n",
       "      <td>26798</td>\n",
       "      <td>29</td>\n",
       "      <td>132</td>\n",
       "      <td>DX6</td>\n",
       "      <td>1</td>\n",
       "      <td>21.420866</td>\n",
       "      <td>NO</td>\n",
       "      <td>URBAN</td>\n",
       "      <td>Stable</td>\n",
       "      <td>1.0</td>\n",
       "      <td>0.0</td>\n",
       "      <td>0.0</td>\n",
       "      <td>0.0</td>\n",
       "      <td>0.0</td>\n",
       "      <td>0.0</td>\n",
       "      <td>0.0</td>\n",
       "      <td>1.0</td>\n",
       "      <td>0</td>\n",
       "    </tr>\n",
       "    <tr>\n",
       "      <th>3</th>\n",
       "      <td>31907</td>\n",
       "      <td>27</td>\n",
       "      <td>10499</td>\n",
       "      <td>DX1</td>\n",
       "      <td>30</td>\n",
       "      <td>25.203247</td>\n",
       "      <td>NO</td>\n",
       "      <td>RURAL</td>\n",
       "      <td>Stable</td>\n",
       "      <td>1.0</td>\n",
       "      <td>0.0</td>\n",
       "      <td>0.0</td>\n",
       "      <td>0.0</td>\n",
       "      <td>0.0</td>\n",
       "      <td>0.0</td>\n",
       "      <td>0.0</td>\n",
       "      <td>1.0</td>\n",
       "      <td>1</td>\n",
       "    </tr>\n",
       "    <tr>\n",
       "      <th>4</th>\n",
       "      <td>26412</td>\n",
       "      <td>9</td>\n",
       "      <td>7963</td>\n",
       "      <td>DX6</td>\n",
       "      <td>40</td>\n",
       "      <td>19.355846</td>\n",
       "      <td>YES</td>\n",
       "      <td>RURAL</td>\n",
       "      <td>Stable</td>\n",
       "      <td>1.0</td>\n",
       "      <td>0.0</td>\n",
       "      <td>0.0</td>\n",
       "      <td>0.0</td>\n",
       "      <td>1.0</td>\n",
       "      <td>0.0</td>\n",
       "      <td>0.0</td>\n",
       "      <td>2.0</td>\n",
       "      <td>1</td>\n",
       "    </tr>\n",
       "  </tbody>\n",
       "</table>\n",
       "</div>"
      ],
      "text/plain": [
       "     ID1  Specific ailments    ID2 Food preference  Age        BMI Smoker?  \\\n",
       "0   2408                 44   2668             DX6   49  20.500470      NO   \n",
       "1  25063                 39  10363        DX3 DX4    20  26.076580      NO   \n",
       "2  26798                 29    132             DX6    1  21.420866      NO   \n",
       "3  31907                 27  10499            DX1    30  25.203247      NO   \n",
       "4  26412                  9   7963             DX6   40  19.355846     YES   \n",
       "\n",
       "  Living in? Any heriditary condition?  Follow Diet  Physical activity  \\\n",
       "0      RURAL                    Stable          1.0                0.0   \n",
       "1      URBAN                    Stable          0.0                0.0   \n",
       "2      URBAN                    Stable          1.0                0.0   \n",
       "3      RURAL                    Stable          1.0                0.0   \n",
       "4      RURAL                    Stable          1.0                0.0   \n",
       "\n",
       "   Regular sleeping hours  Alcohol consumption  Social interaction  \\\n",
       "0                     0.0                  0.0                 0.0   \n",
       "1                     0.0                  0.0                 1.0   \n",
       "2                     0.0                  0.0                 0.0   \n",
       "3                     0.0                  0.0                 0.0   \n",
       "4                     0.0                  0.0                 1.0   \n",
       "\n",
       "   Taking supplements  Mental health management  Illness count last year  \\\n",
       "0                 0.0                       0.0                      1.0   \n",
       "1                 0.0                       0.0                      1.0   \n",
       "2                 0.0                       0.0                      1.0   \n",
       "3                 0.0                       0.0                      1.0   \n",
       "4                 0.0                       0.0                      2.0   \n",
       "\n",
       "   Healthy  \n",
       "0        1  \n",
       "1        1  \n",
       "2        0  \n",
       "3        1  \n",
       "4        1  "
      ]
     },
     "execution_count": 2,
     "metadata": {},
     "output_type": "execute_result"
    }
   ],
   "source": [
    "df_train = pd.read_csv('Train_Data (1).csv')\n",
    "df_train.head()"
   ]
  },
  {
   "cell_type": "code",
   "execution_count": 3,
   "id": "69a8a753",
   "metadata": {},
   "outputs": [
    {
     "data": {
      "text/plain": [
       "Index(['ID1', 'Specific ailments', 'ID2', 'Food preference', 'Age', 'BMI',\n",
       "       'Smoker?', 'Living in?', 'Any heriditary condition?', 'Follow Diet',\n",
       "       'Physical activity', 'Regular sleeping hours', 'Alcohol consumption',\n",
       "       'Social interaction', 'Taking supplements', 'Mental health management',\n",
       "       'Illness count last year', 'Healthy'],\n",
       "      dtype='object')"
      ]
     },
     "execution_count": 3,
     "metadata": {},
     "output_type": "execute_result"
    }
   ],
   "source": [
    "df_train.columns"
   ]
  },
  {
   "cell_type": "code",
   "execution_count": 4,
   "id": "8b91ac0c",
   "metadata": {},
   "outputs": [
    {
     "data": {
      "text/plain": [
       "(25920, 18)"
      ]
     },
     "execution_count": 4,
     "metadata": {},
     "output_type": "execute_result"
    }
   ],
   "source": [
    "df_train.shape"
   ]
  },
  {
   "cell_type": "code",
   "execution_count": 5,
   "id": "4e26bf9e",
   "metadata": {},
   "outputs": [
    {
     "data": {
      "text/plain": [
       "<Axes: >"
      ]
     },
     "execution_count": 5,
     "metadata": {},
     "output_type": "execute_result"
    },
    {
     "data": {
      "image/png": "[encoded data removed]",
      "text/plain": [
       "<Figure size 640x480 with 2 Axes>"
      ]
     },
     "metadata": {},
     "output_type": "display_data"
    }
   ],
   "source": [
    "sns.heatmap(df_train.isnull())"
   ]
  },
  {
   "cell_type": "code",
   "execution_count": 6,
   "id": "81645dcc",
   "metadata": {},
   "outputs": [
    {
     "data": {
      "text/plain": [
       "ID1                            0\n",
       "Specific ailments              0\n",
       "ID2                            0\n",
       "Food preference               10\n",
       "Age                            0\n",
       "BMI                            0\n",
       "Smoker?                        0\n",
       "Living in?                     0\n",
       "Any heriditary condition?      0\n",
       "Follow Diet                  973\n",
       "Physical activity            973\n",
       "Regular sleeping hours       973\n",
       "Alcohol consumption          973\n",
       "Social interaction           973\n",
       "Taking supplements           973\n",
       "Mental health management     973\n",
       "Illness count last year      973\n",
       "Healthy                        0\n",
       "dtype: int64"
      ]
     },
     "execution_count": 6,
     "metadata": {},
     "output_type": "execute_result"
    }
   ],
   "source": [
    "df_train.isnull().sum()"
   ]
  },
  {
   "cell_type": "code",
   "execution_count": 7,
   "id": "f8fddb93",
   "metadata": {},
   "outputs": [
    {
     "data": {
      "text/plain": [
       "3.753858024691358"
      ]
     },
     "execution_count": 7,
     "metadata": {},
     "output_type": "execute_result"
    }
   ],
   "source": [
    "(973*100) / 25920"
   ]
  },
  {
   "cell_type": "code",
   "execution_count": 8,
   "id": "de6f5901",
   "metadata": {},
   "outputs": [
    {
     "data": {
      "text/plain": [
       "array(['DX6', 'DX3 DX4 ', 'DX1 ', 'DX4 DX5 ', 'DX5 ', 'DX2 ', 'DX2 DX4 ',\n",
       "       'DX2 DX4 DX5 ', 'DX2 DX5 ', 'DX3 ', 'DX1 DX5 ', 'DX4 ', 'DX1 DX3 ',\n",
       "       'DX1 DX2 ', 'DX1 DX3 DX4 ', 'DX1 DX3 DX5 ', 'DX1 DX2 DX5 ',\n",
       "       'DX2 DX3 DX5 ', 'DX1 DX4 ', 'DX2 DX3 DX4 ', 'DX1 DX2 DX3 ',\n",
       "       'DX2 DX3 ', 'DX3 DX4 DX5 ', 'DX1 DX4 DX5 ', 'DX1 DX2 DX4 ',\n",
       "       'DX3 DX5 ', 'DX1 DX3 DX4 DX5 ', 'DX2 DX3 DX4 DX5 ',\n",
       "       'DX1 DX2 DX4 DX5 ', nan, 'DX1 DX2 DX3 DX5 ',\n",
       "       'DX1 DX2 DX3 DX4 DX5 ', 'DX1 DX2 DX3 DX4 '], dtype=object)"
      ]
     },
     "execution_count": 8,
     "metadata": {},
     "output_type": "execute_result"
    }
   ],
   "source": [
    "df_train['Food preference'].unique()"
   ]
  },
  {
   "cell_type": "code",
   "execution_count": 9,
   "id": "7d610814",
   "metadata": {},
   "outputs": [
    {
     "data": {
      "text/plain": [
       "<Axes: xlabel='Living in?', ylabel='Count'>"
      ]
     },
     "execution_count": 9,
     "metadata": {},
     "output_type": "execute_result"
    },
    {
     "data": {
      "image/png": "[encoded data removed]",
      "text/plain": [
       "<Figure size 640x480 with 1 Axes>"
      ]
     },
     "metadata": {},
     "output_type": "display_data"
    }
   ],
   "source": [
    "sns.histplot(data = df_train,x ='Living in?',hue='Healthy')"
   ]
  },
  {
   "cell_type": "code",
   "execution_count": 10,
   "id": "5442d014",
   "metadata": {},
   "outputs": [
    {
     "data": {
      "text/plain": [
       "<Axes: xlabel='Smoker?', ylabel='Count'>"
      ]
     },
     "execution_count": 10,
     "metadata": {},
     "output_type": "execute_result"
    },
    {
     "data": {
      "image/png": "[encoded data removed]",
      "text/plain": [
       "<Figure size 640x480 with 1 Axes>"
      ]
     },
     "metadata": {},
     "output_type": "display_data"
    }
   ],
   "source": [
    "sns.histplot(data = df_train,x ='Smoker?',hue='Healthy')"
   ]
  },
  {
   "cell_type": "code",
   "execution_count": 11,
   "id": "09bc1196",
   "metadata": {},
   "outputs": [
    {
     "data": {
      "text/plain": [
       "0.0    15046\n",
       "1.0     9901\n",
       "Name: Social interaction, dtype: int64"
      ]
     },
     "execution_count": 11,
     "metadata": {},
     "output_type": "execute_result"
    }
   ],
   "source": [
    "df_train['Social interaction'].value_counts()"
   ]
  },
  {
   "cell_type": "code",
   "execution_count": 12,
   "id": "1800d06d",
   "metadata": {},
   "outputs": [
    {
     "data": {
      "text/html": [
       "<div>\n",
       "<style scoped>\n",
       "    .dataframe tbody tr th:only-of-type {\n",
       "        vertical-align: middle;\n",
       "    }\n",
       "\n",
       "    .dataframe tbody tr th {\n",
       "        vertical-align: top;\n",
       "    }\n",
       "\n",
       "    .dataframe thead th {\n",
       "        text-align: right;\n",
       "    }\n",
       "</style>\n",
       "<table border=\"1\" class=\"dataframe\">\n",
       "  <thead>\n",
       "    <tr style=\"text-align: right;\">\n",
       "      <th></th>\n",
       "      <th>ID1</th>\n",
       "      <th>Specific ailments</th>\n",
       "      <th>ID2</th>\n",
       "      <th>Food preference</th>\n",
       "      <th>Age</th>\n",
       "      <th>BMI</th>\n",
       "      <th>Smoker?</th>\n",
       "      <th>Living in?</th>\n",
       "      <th>Any heriditary condition?</th>\n",
       "      <th>Follow Diet</th>\n",
       "      <th>Physical activity</th>\n",
       "      <th>Regular sleeping hours</th>\n",
       "      <th>Alcohol consumption</th>\n",
       "      <th>Social interaction</th>\n",
       "      <th>Taking supplements</th>\n",
       "      <th>Mental health management</th>\n",
       "      <th>Illness count last year</th>\n",
       "      <th>Healthy</th>\n",
       "    </tr>\n",
       "  </thead>\n",
       "  <tbody>\n",
       "    <tr>\n",
       "      <th>39</th>\n",
       "      <td>15386</td>\n",
       "      <td>36</td>\n",
       "      <td>7184</td>\n",
       "      <td>DX6</td>\n",
       "      <td>47</td>\n",
       "      <td>27.557885</td>\n",
       "      <td>YES</td>\n",
       "      <td>RURAL</td>\n",
       "      <td>Stable</td>\n",
       "      <td>NaN</td>\n",
       "      <td>NaN</td>\n",
       "      <td>NaN</td>\n",
       "      <td>NaN</td>\n",
       "      <td>NaN</td>\n",
       "      <td>NaN</td>\n",
       "      <td>NaN</td>\n",
       "      <td>NaN</td>\n",
       "      <td>0</td>\n",
       "    </tr>\n",
       "    <tr>\n",
       "      <th>41</th>\n",
       "      <td>18798</td>\n",
       "      <td>13</td>\n",
       "      <td>2626</td>\n",
       "      <td>DX5</td>\n",
       "      <td>44</td>\n",
       "      <td>28.514937</td>\n",
       "      <td>NO</td>\n",
       "      <td>RURAL</td>\n",
       "      <td>Stable</td>\n",
       "      <td>NaN</td>\n",
       "      <td>NaN</td>\n",
       "      <td>NaN</td>\n",
       "      <td>NaN</td>\n",
       "      <td>NaN</td>\n",
       "      <td>NaN</td>\n",
       "      <td>NaN</td>\n",
       "      <td>NaN</td>\n",
       "      <td>1</td>\n",
       "    </tr>\n",
       "    <tr>\n",
       "      <th>63</th>\n",
       "      <td>18577</td>\n",
       "      <td>51</td>\n",
       "      <td>12228</td>\n",
       "      <td>DX6</td>\n",
       "      <td>65</td>\n",
       "      <td>23.120156</td>\n",
       "      <td>YES</td>\n",
       "      <td>RURAL</td>\n",
       "      <td>Stable</td>\n",
       "      <td>NaN</td>\n",
       "      <td>NaN</td>\n",
       "      <td>NaN</td>\n",
       "      <td>NaN</td>\n",
       "      <td>NaN</td>\n",
       "      <td>NaN</td>\n",
       "      <td>NaN</td>\n",
       "      <td>NaN</td>\n",
       "      <td>0</td>\n",
       "    </tr>\n",
       "    <tr>\n",
       "      <th>82</th>\n",
       "      <td>31496</td>\n",
       "      <td>32</td>\n",
       "      <td>3702</td>\n",
       "      <td>DX3</td>\n",
       "      <td>34</td>\n",
       "      <td>26.531821</td>\n",
       "      <td>YES</td>\n",
       "      <td>URBAN</td>\n",
       "      <td>Stable</td>\n",
       "      <td>NaN</td>\n",
       "      <td>NaN</td>\n",
       "      <td>NaN</td>\n",
       "      <td>NaN</td>\n",
       "      <td>NaN</td>\n",
       "      <td>NaN</td>\n",
       "      <td>NaN</td>\n",
       "      <td>NaN</td>\n",
       "      <td>0</td>\n",
       "    </tr>\n",
       "    <tr>\n",
       "      <th>90</th>\n",
       "      <td>15245</td>\n",
       "      <td>30</td>\n",
       "      <td>2110</td>\n",
       "      <td>DX2</td>\n",
       "      <td>32</td>\n",
       "      <td>19.701808</td>\n",
       "      <td>NO</td>\n",
       "      <td>RURAL</td>\n",
       "      <td>Stable</td>\n",
       "      <td>NaN</td>\n",
       "      <td>NaN</td>\n",
       "      <td>NaN</td>\n",
       "      <td>NaN</td>\n",
       "      <td>NaN</td>\n",
       "      <td>NaN</td>\n",
       "      <td>NaN</td>\n",
       "      <td>NaN</td>\n",
       "      <td>1</td>\n",
       "    </tr>\n",
       "    <tr>\n",
       "      <th>...</th>\n",
       "      <td>...</td>\n",
       "      <td>...</td>\n",
       "      <td>...</td>\n",
       "      <td>...</td>\n",
       "      <td>...</td>\n",
       "      <td>...</td>\n",
       "      <td>...</td>\n",
       "      <td>...</td>\n",
       "      <td>...</td>\n",
       "      <td>...</td>\n",
       "      <td>...</td>\n",
       "      <td>...</td>\n",
       "      <td>...</td>\n",
       "      <td>...</td>\n",
       "      <td>...</td>\n",
       "      <td>...</td>\n",
       "      <td>...</td>\n",
       "      <td>...</td>\n",
       "    </tr>\n",
       "    <tr>\n",
       "      <th>25847</th>\n",
       "      <td>25685</td>\n",
       "      <td>46</td>\n",
       "      <td>265</td>\n",
       "      <td>DX2 DX4</td>\n",
       "      <td>31</td>\n",
       "      <td>26.507633</td>\n",
       "      <td>YES</td>\n",
       "      <td>RURAL</td>\n",
       "      <td>Stable</td>\n",
       "      <td>NaN</td>\n",
       "      <td>NaN</td>\n",
       "      <td>NaN</td>\n",
       "      <td>NaN</td>\n",
       "      <td>NaN</td>\n",
       "      <td>NaN</td>\n",
       "      <td>NaN</td>\n",
       "      <td>NaN</td>\n",
       "      <td>1</td>\n",
       "    </tr>\n",
       "    <tr>\n",
       "      <th>25872</th>\n",
       "      <td>26523</td>\n",
       "      <td>39</td>\n",
       "      <td>3727</td>\n",
       "      <td>DX6</td>\n",
       "      <td>18</td>\n",
       "      <td>22.856948</td>\n",
       "      <td>NO</td>\n",
       "      <td>RURAL</td>\n",
       "      <td>Stable</td>\n",
       "      <td>NaN</td>\n",
       "      <td>NaN</td>\n",
       "      <td>NaN</td>\n",
       "      <td>NaN</td>\n",
       "      <td>NaN</td>\n",
       "      <td>NaN</td>\n",
       "      <td>NaN</td>\n",
       "      <td>NaN</td>\n",
       "      <td>1</td>\n",
       "    </tr>\n",
       "    <tr>\n",
       "      <th>25892</th>\n",
       "      <td>24884</td>\n",
       "      <td>14</td>\n",
       "      <td>6071</td>\n",
       "      <td>DX1 DX3</td>\n",
       "      <td>60</td>\n",
       "      <td>23.967078</td>\n",
       "      <td>NO</td>\n",
       "      <td>RURAL</td>\n",
       "      <td>Stable</td>\n",
       "      <td>NaN</td>\n",
       "      <td>NaN</td>\n",
       "      <td>NaN</td>\n",
       "      <td>NaN</td>\n",
       "      <td>NaN</td>\n",
       "      <td>NaN</td>\n",
       "      <td>NaN</td>\n",
       "      <td>NaN</td>\n",
       "      <td>1</td>\n",
       "    </tr>\n",
       "    <tr>\n",
       "      <th>25893</th>\n",
       "      <td>9926</td>\n",
       "      <td>16</td>\n",
       "      <td>1064</td>\n",
       "      <td>DX1 DX4</td>\n",
       "      <td>52</td>\n",
       "      <td>21.774523</td>\n",
       "      <td>NO</td>\n",
       "      <td>RURAL</td>\n",
       "      <td>Stable</td>\n",
       "      <td>NaN</td>\n",
       "      <td>NaN</td>\n",
       "      <td>NaN</td>\n",
       "      <td>NaN</td>\n",
       "      <td>NaN</td>\n",
       "      <td>NaN</td>\n",
       "      <td>NaN</td>\n",
       "      <td>NaN</td>\n",
       "      <td>1</td>\n",
       "    </tr>\n",
       "    <tr>\n",
       "      <th>25897</th>\n",
       "      <td>29292</td>\n",
       "      <td>50</td>\n",
       "      <td>9071</td>\n",
       "      <td>DX2</td>\n",
       "      <td>40</td>\n",
       "      <td>29.590971</td>\n",
       "      <td>NO</td>\n",
       "      <td>RURAL</td>\n",
       "      <td>Stable</td>\n",
       "      <td>NaN</td>\n",
       "      <td>NaN</td>\n",
       "      <td>NaN</td>\n",
       "      <td>NaN</td>\n",
       "      <td>NaN</td>\n",
       "      <td>NaN</td>\n",
       "      <td>NaN</td>\n",
       "      <td>NaN</td>\n",
       "      <td>1</td>\n",
       "    </tr>\n",
       "  </tbody>\n",
       "</table>\n",
       "<p>973 rows × 18 columns</p>\n",
       "</div>"
      ],
      "text/plain": [
       "         ID1  Specific ailments    ID2 Food preference  Age        BMI  \\\n",
       "39     15386                 36   7184             DX6   47  27.557885   \n",
       "41     18798                 13   2626            DX5    44  28.514937   \n",
       "63     18577                 51  12228             DX6   65  23.120156   \n",
       "82     31496                 32   3702            DX3    34  26.531821   \n",
       "90     15245                 30   2110            DX2    32  19.701808   \n",
       "...      ...                ...    ...             ...  ...        ...   \n",
       "25847  25685                 46    265        DX2 DX4    31  26.507633   \n",
       "25872  26523                 39   3727             DX6   18  22.856948   \n",
       "25892  24884                 14   6071        DX1 DX3    60  23.967078   \n",
       "25893   9926                 16   1064        DX1 DX4    52  21.774523   \n",
       "25897  29292                 50   9071            DX2    40  29.590971   \n",
       "\n",
       "      Smoker? Living in? Any heriditary condition?  Follow Diet  \\\n",
       "39        YES      RURAL                    Stable          NaN   \n",
       "41         NO      RURAL                    Stable          NaN   \n",
       "63        YES      RURAL                    Stable          NaN   \n",
       "82        YES      URBAN                    Stable          NaN   \n",
       "90         NO      RURAL                    Stable          NaN   \n",
       "...       ...        ...                       ...          ...   \n",
       "25847     YES      RURAL                    Stable          NaN   \n",
       "25872      NO      RURAL                    Stable          NaN   \n",
       "25892      NO      RURAL                    Stable          NaN   \n",
       "25893      NO      RURAL                    Stable          NaN   \n",
       "25897      NO      RURAL                    Stable          NaN   \n",
       "\n",
       "       Physical activity  Regular sleeping hours  Alcohol consumption  \\\n",
       "39                   NaN                     NaN                  NaN   \n",
       "41                   NaN                     NaN                  NaN   \n",
       "63                   NaN                     NaN                  NaN   \n",
       "82                   NaN                     NaN                  NaN   \n",
       "90                   NaN                     NaN                  NaN   \n",
       "...                  ...                     ...                  ...   \n",
       "25847                NaN                     NaN                  NaN   \n",
       "25872                NaN                     NaN                  NaN   \n",
       "25892                NaN                     NaN                  NaN   \n",
       "25893                NaN                     NaN                  NaN   \n",
       "25897                NaN                     NaN                  NaN   \n",
       "\n",
       "       Social interaction  Taking supplements  Mental health management  \\\n",
       "39                    NaN                 NaN                       NaN   \n",
       "41                    NaN                 NaN                       NaN   \n",
       "63                    NaN                 NaN                       NaN   \n",
       "82                    NaN                 NaN                       NaN   \n",
       "90                    NaN                 NaN                       NaN   \n",
       "...                   ...                 ...                       ...   \n",
       "25847                 NaN                 NaN                       NaN   \n",
       "25872                 NaN                 NaN                       NaN   \n",
       "25892                 NaN                 NaN                       NaN   \n",
       "25893                 NaN                 NaN                       NaN   \n",
       "25897                 NaN                 NaN                       NaN   \n",
       "\n",
       "       Illness count last year  Healthy  \n",
       "39                         NaN        0  \n",
       "41                         NaN        1  \n",
       "63                         NaN        0  \n",
       "82                         NaN        0  \n",
       "90                         NaN        1  \n",
       "...                        ...      ...  \n",
       "25847                      NaN        1  \n",
       "25872                      NaN        1  \n",
       "25892                      NaN        1  \n",
       "25893                      NaN        1  \n",
       "25897                      NaN        1  \n",
       "\n",
       "[973 rows x 18 columns]"
      ]
     },
     "execution_count": 12,
     "metadata": {},
     "output_type": "execute_result"
    }
   ],
   "source": [
    "df_train[df_train['Social interaction'].isnull()]"
   ]
  },
  {
   "cell_type": "code",
   "execution_count": 13,
   "id": "37ee49c9",
   "metadata": {},
   "outputs": [
    {
     "data": {
      "text/plain": [
       "<Axes: xlabel='Regular sleeping hours', ylabel='Count'>"
      ]
     },
     "execution_count": 13,
     "metadata": {},
     "output_type": "execute_result"
    },
    {
     "data": {
      "image/png": "[encoded data removed]",
      "text/plain": [
       "<Figure size 640x480 with 1 Axes>"
      ]
     },
     "metadata": {},
     "output_type": "display_data"
    }
   ],
   "source": [
    "sns.histplot(data = df_train,x ='Regular sleeping hours')"
   ]
  },
  {
   "cell_type": "code",
   "execution_count": 14,
   "id": "887ea5f4",
   "metadata": {},
   "outputs": [
    {
     "data": {
      "text/plain": [
       "0.0    20347\n",
       "1.0     4600\n",
       "Name: Regular sleeping hours, dtype: int64"
      ]
     },
     "execution_count": 14,
     "metadata": {},
     "output_type": "execute_result"
    }
   ],
   "source": [
    "df_train['Regular sleeping hours'].value_counts()"
   ]
  },
  {
   "cell_type": "code",
   "execution_count": 15,
   "id": "b3871e7d",
   "metadata": {},
   "outputs": [
    {
     "data": {
      "text/plain": [
       "0.0    21503\n",
       "1.0     3444\n",
       "Name: Physical activity, dtype: int64"
      ]
     },
     "execution_count": 15,
     "metadata": {},
     "output_type": "execute_result"
    }
   ],
   "source": [
    "df_train['Physical activity'].value_counts()"
   ]
  },
  {
   "cell_type": "code",
   "execution_count": 16,
   "id": "e5f2449f",
   "metadata": {},
   "outputs": [
    {
     "data": {
      "text/plain": [
       "0.0"
      ]
     },
     "execution_count": 16,
     "metadata": {},
     "output_type": "execute_result"
    }
   ],
   "source": [
    "df_train['Physical activity'].median()"
   ]
  },
  {
   "cell_type": "code",
   "execution_count": 17,
   "id": "3f9574b0",
   "metadata": {},
   "outputs": [
    {
     "data": {
      "text/plain": [
       "1.0    22346\n",
       "0.0     2601\n",
       "Name: Follow Diet, dtype: int64"
      ]
     },
     "execution_count": 17,
     "metadata": {},
     "output_type": "execute_result"
    }
   ],
   "source": [
    "df_train['Follow Diet'].value_counts()"
   ]
  },
  {
   "cell_type": "code",
   "execution_count": 18,
   "id": "a3e443b4",
   "metadata": {},
   "outputs": [
    {
     "data": {
      "text/plain": [
       "0.0    23623\n",
       "1.0     1324\n",
       "Name: Taking supplements, dtype: int64"
      ]
     },
     "execution_count": 18,
     "metadata": {},
     "output_type": "execute_result"
    }
   ],
   "source": [
    "df_train['Taking supplements'].value_counts()"
   ]
  },
  {
   "cell_type": "code",
   "execution_count": 19,
   "id": "99cfce43",
   "metadata": {},
   "outputs": [
    {
     "data": {
      "text/plain": [
       "0.0    24937\n",
       "1.0       10\n",
       "Name: Mental health management, dtype: int64"
      ]
     },
     "execution_count": 19,
     "metadata": {},
     "output_type": "execute_result"
    }
   ],
   "source": [
    "df_train['Mental health management'].value_counts()"
   ]
  },
  {
   "cell_type": "code",
   "execution_count": 20,
   "id": "42244612",
   "metadata": {},
   "outputs": [
    {
     "data": {
      "text/plain": [
       "1.0    10646\n",
       "2.0    10342\n",
       "3.0     3475\n",
       "4.0      449\n",
       "5.0       35\n",
       "Name: Illness count last year, dtype: int64"
      ]
     },
     "execution_count": 20,
     "metadata": {},
     "output_type": "execute_result"
    }
   ],
   "source": [
    "df_train['Illness count last year'].value_counts()"
   ]
  },
  {
   "cell_type": "code",
   "execution_count": 21,
   "id": "d0d42aa1",
   "metadata": {},
   "outputs": [
    {
     "data": {
      "text/plain": [
       "<Axes: xlabel='Illness count last year', ylabel='Count'>"
      ]
     },
     "execution_count": 21,
     "metadata": {},
     "output_type": "execute_result"
    },
    {
     "data": {
      "image/png": "[encoded data removed]",
      "text/plain": [
       "<Figure size 640x480 with 1 Axes>"
      ]
     },
     "metadata": {},
     "output_type": "display_data"
    }
   ],
   "source": [
    "sns.histplot(data = df_train,x ='Illness count last year',hue='Healthy')"
   ]
  },
  {
   "cell_type": "code",
   "execution_count": 22,
   "id": "fd4b0d7d",
   "metadata": {},
   "outputs": [
    {
     "data": {
      "text/plain": [
       "Index(['ID1', 'Specific ailments', 'ID2', 'Food preference', 'Age', 'BMI',\n",
       "       'Smoker?', 'Living in?', 'Any heriditary condition?', 'Follow Diet',\n",
       "       'Physical activity', 'Regular sleeping hours', 'Alcohol consumption',\n",
       "       'Social interaction', 'Taking supplements', 'Mental health management',\n",
       "       'Illness count last year', 'Healthy'],\n",
       "      dtype='object')"
      ]
     },
     "execution_count": 22,
     "metadata": {},
     "output_type": "execute_result"
    }
   ],
   "source": [
    "df_train.columns"
   ]
  },
  {
   "cell_type": "code",
   "execution_count": 23,
   "id": "ac4bc473",
   "metadata": {},
   "outputs": [],
   "source": [
    "df_train[['Follow Diet','Physical activity','Regular sleeping hours', 'Alcohol consumption',\n",
    "        'Social interaction', 'Taking supplements', 'Mental health management']] = df_train[['Follow Diet','Physical activity','Regular sleeping hours', 'Alcohol consumption',\n",
    "        'Social interaction', 'Taking supplements', 'Mental health management']].fillna(df_train[['Follow Diet','Physical activity','Regular sleeping hours', 'Alcohol consumption',\n",
    "        'Social interaction', 'Taking supplements', 'Mental health management']].median())"
   ]
  },
  {
   "cell_type": "code",
   "execution_count": 24,
   "id": "e52d2613",
   "metadata": {},
   "outputs": [
    {
     "data": {
      "text/plain": [
       "ID1                            0\n",
       "Specific ailments              0\n",
       "ID2                            0\n",
       "Food preference               10\n",
       "Age                            0\n",
       "BMI                            0\n",
       "Smoker?                        0\n",
       "Living in?                     0\n",
       "Any heriditary condition?      0\n",
       "Follow Diet                    0\n",
       "Physical activity              0\n",
       "Regular sleeping hours         0\n",
       "Alcohol consumption            0\n",
       "Social interaction             0\n",
       "Taking supplements             0\n",
       "Mental health management       0\n",
       "Illness count last year      973\n",
       "Healthy                        0\n",
       "dtype: int64"
      ]
     },
     "execution_count": 24,
     "metadata": {},
     "output_type": "execute_result"
    }
   ],
   "source": [
    "df_train.isnull().sum()"
   ]
  },
  {
   "cell_type": "code",
   "execution_count": 25,
   "id": "e9004e47",
   "metadata": {},
   "outputs": [
    {
     "data": {
      "text/plain": [
       "2.0"
      ]
     },
     "execution_count": 25,
     "metadata": {},
     "output_type": "execute_result"
    }
   ],
   "source": [
    "df_train['Illness count last year'].median()"
   ]
  },
  {
   "cell_type": "code",
   "execution_count": 26,
   "id": "6d64581b",
   "metadata": {},
   "outputs": [],
   "source": [
    "df_train[['Illness count last year']] = df_train[['Illness count last year']].fillna(df_train[['Illness count last year']].median())"
   ]
  },
  {
   "cell_type": "code",
   "execution_count": 27,
   "id": "9b230ad4",
   "metadata": {},
   "outputs": [
    {
     "data": {
      "text/plain": [
       "ID1                           0\n",
       "Specific ailments             0\n",
       "ID2                           0\n",
       "Food preference              10\n",
       "Age                           0\n",
       "BMI                           0\n",
       "Smoker?                       0\n",
       "Living in?                    0\n",
       "Any heriditary condition?     0\n",
       "Follow Diet                   0\n",
       "Physical activity             0\n",
       "Regular sleeping hours        0\n",
       "Alcohol consumption           0\n",
       "Social interaction            0\n",
       "Taking supplements            0\n",
       "Mental health management      0\n",
       "Illness count last year       0\n",
       "Healthy                       0\n",
       "dtype: int64"
      ]
     },
     "execution_count": 27,
     "metadata": {},
     "output_type": "execute_result"
    }
   ],
   "source": [
    "df_train.isnull().sum()"
   ]
  },
  {
   "cell_type": "code",
   "execution_count": 28,
   "id": "c5d0a192",
   "metadata": {},
   "outputs": [
    {
     "data": {
      "text/html": [
       "<div>\n",
       "<style scoped>\n",
       "    .dataframe tbody tr th:only-of-type {\n",
       "        vertical-align: middle;\n",
       "    }\n",
       "\n",
       "    .dataframe tbody tr th {\n",
       "        vertical-align: top;\n",
       "    }\n",
       "\n",
       "    .dataframe thead th {\n",
       "        text-align: right;\n",
       "    }\n",
       "</style>\n",
       "<table border=\"1\" class=\"dataframe\">\n",
       "  <thead>\n",
       "    <tr style=\"text-align: right;\">\n",
       "      <th></th>\n",
       "      <th>Specific ailments</th>\n",
       "      <th>Age</th>\n",
       "      <th>BMI</th>\n",
       "      <th>Smoker?</th>\n",
       "      <th>Living in?</th>\n",
       "      <th>Any heriditary condition?</th>\n",
       "      <th>Follow Diet</th>\n",
       "      <th>Physical activity</th>\n",
       "      <th>Regular sleeping hours</th>\n",
       "      <th>Alcohol consumption</th>\n",
       "      <th>Social interaction</th>\n",
       "      <th>Taking supplements</th>\n",
       "      <th>Mental health management</th>\n",
       "      <th>Illness count last year</th>\n",
       "      <th>Healthy</th>\n",
       "    </tr>\n",
       "  </thead>\n",
       "  <tbody>\n",
       "    <tr>\n",
       "      <th>0</th>\n",
       "      <td>44</td>\n",
       "      <td>49</td>\n",
       "      <td>20.500470</td>\n",
       "      <td>NO</td>\n",
       "      <td>RURAL</td>\n",
       "      <td>Stable</td>\n",
       "      <td>1.0</td>\n",
       "      <td>0.0</td>\n",
       "      <td>0.0</td>\n",
       "      <td>0.0</td>\n",
       "      <td>0.0</td>\n",
       "      <td>0.0</td>\n",
       "      <td>0.0</td>\n",
       "      <td>1.0</td>\n",
       "      <td>1</td>\n",
       "    </tr>\n",
       "    <tr>\n",
       "      <th>1</th>\n",
       "      <td>39</td>\n",
       "      <td>20</td>\n",
       "      <td>26.076580</td>\n",
       "      <td>NO</td>\n",
       "      <td>URBAN</td>\n",
       "      <td>Stable</td>\n",
       "      <td>0.0</td>\n",
       "      <td>0.0</td>\n",
       "      <td>0.0</td>\n",
       "      <td>0.0</td>\n",
       "      <td>1.0</td>\n",
       "      <td>0.0</td>\n",
       "      <td>0.0</td>\n",
       "      <td>1.0</td>\n",
       "      <td>1</td>\n",
       "    </tr>\n",
       "    <tr>\n",
       "      <th>2</th>\n",
       "      <td>29</td>\n",
       "      <td>1</td>\n",
       "      <td>21.420866</td>\n",
       "      <td>NO</td>\n",
       "      <td>URBAN</td>\n",
       "      <td>Stable</td>\n",
       "      <td>1.0</td>\n",
       "      <td>0.0</td>\n",
       "      <td>0.0</td>\n",
       "      <td>0.0</td>\n",
       "      <td>0.0</td>\n",
       "      <td>0.0</td>\n",
       "      <td>0.0</td>\n",
       "      <td>1.0</td>\n",
       "      <td>0</td>\n",
       "    </tr>\n",
       "    <tr>\n",
       "      <th>3</th>\n",
       "      <td>27</td>\n",
       "      <td>30</td>\n",
       "      <td>25.203247</td>\n",
       "      <td>NO</td>\n",
       "      <td>RURAL</td>\n",
       "      <td>Stable</td>\n",
       "      <td>1.0</td>\n",
       "      <td>0.0</td>\n",
       "      <td>0.0</td>\n",
       "      <td>0.0</td>\n",
       "      <td>0.0</td>\n",
       "      <td>0.0</td>\n",
       "      <td>0.0</td>\n",
       "      <td>1.0</td>\n",
       "      <td>1</td>\n",
       "    </tr>\n",
       "    <tr>\n",
       "      <th>4</th>\n",
       "      <td>9</td>\n",
       "      <td>40</td>\n",
       "      <td>19.355846</td>\n",
       "      <td>YES</td>\n",
       "      <td>RURAL</td>\n",
       "      <td>Stable</td>\n",
       "      <td>1.0</td>\n",
       "      <td>0.0</td>\n",
       "      <td>0.0</td>\n",
       "      <td>0.0</td>\n",
       "      <td>1.0</td>\n",
       "      <td>0.0</td>\n",
       "      <td>0.0</td>\n",
       "      <td>2.0</td>\n",
       "      <td>1</td>\n",
       "    </tr>\n",
       "  </tbody>\n",
       "</table>\n",
       "</div>"
      ],
      "text/plain": [
       "   Specific ailments  Age        BMI Smoker? Living in?  \\\n",
       "0                 44   49  20.500470      NO      RURAL   \n",
       "1                 39   20  26.076580      NO      URBAN   \n",
       "2                 29    1  21.420866      NO      URBAN   \n",
       "3                 27   30  25.203247      NO      RURAL   \n",
       "4                  9   40  19.355846     YES      RURAL   \n",
       "\n",
       "  Any heriditary condition?  Follow Diet  Physical activity  \\\n",
       "0                    Stable          1.0                0.0   \n",
       "1                    Stable          0.0                0.0   \n",
       "2                    Stable          1.0                0.0   \n",
       "3                    Stable          1.0                0.0   \n",
       "4                    Stable          1.0                0.0   \n",
       "\n",
       "   Regular sleeping hours  Alcohol consumption  Social interaction  \\\n",
       "0                     0.0                  0.0                 0.0   \n",
       "1                     0.0                  0.0                 1.0   \n",
       "2                     0.0                  0.0                 0.0   \n",
       "3                     0.0                  0.0                 0.0   \n",
       "4                     0.0                  0.0                 1.0   \n",
       "\n",
       "   Taking supplements  Mental health management  Illness count last year  \\\n",
       "0                 0.0                       0.0                      1.0   \n",
       "1                 0.0                       0.0                      1.0   \n",
       "2                 0.0                       0.0                      1.0   \n",
       "3                 0.0                       0.0                      1.0   \n",
       "4                 0.0                       0.0                      2.0   \n",
       "\n",
       "   Healthy  \n",
       "0        1  \n",
       "1        1  \n",
       "2        0  \n",
       "3        1  \n",
       "4        1  "
      ]
     },
     "execution_count": 28,
     "metadata": {},
     "output_type": "execute_result"
    }
   ],
   "source": [
    "df_train.drop(['Food preference','ID1','ID2'],inplace=True,axis=1)\n",
    "df_train.head()"
   ]
  },
  {
   "cell_type": "code",
   "execution_count": 29,
   "id": "14f273ea",
   "metadata": {},
   "outputs": [
    {
     "data": {
      "text/plain": [
       "Specific ailments            0\n",
       "Age                          0\n",
       "BMI                          0\n",
       "Smoker?                      0\n",
       "Living in?                   0\n",
       "Any heriditary condition?    0\n",
       "Follow Diet                  0\n",
       "Physical activity            0\n",
       "Regular sleeping hours       0\n",
       "Alcohol consumption          0\n",
       "Social interaction           0\n",
       "Taking supplements           0\n",
       "Mental health management     0\n",
       "Illness count last year      0\n",
       "Healthy                      0\n",
       "dtype: int64"
      ]
     },
     "execution_count": 29,
     "metadata": {},
     "output_type": "execute_result"
    }
   ],
   "source": [
    "df_train.isnull().sum()"
   ]
  },
  {
   "cell_type": "code",
   "execution_count": 30,
   "id": "b6912da0",
   "metadata": {},
   "outputs": [],
   "source": [
    "df_train = pd.get_dummies(df_train,['Smoker?','Living in?','Any heriditary condition?'])"
   ]
  },
  {
   "cell_type": "code",
   "execution_count": 31,
   "id": "23f3a919",
   "metadata": {},
   "outputs": [
    {
     "data": {
      "text/html": [
       "<div>\n",
       "<style scoped>\n",
       "    .dataframe tbody tr th:only-of-type {\n",
       "        vertical-align: middle;\n",
       "    }\n",
       "\n",
       "    .dataframe tbody tr th {\n",
       "        vertical-align: top;\n",
       "    }\n",
       "\n",
       "    .dataframe thead th {\n",
       "        text-align: right;\n",
       "    }\n",
       "</style>\n",
       "<table border=\"1\" class=\"dataframe\">\n",
       "  <thead>\n",
       "    <tr style=\"text-align: right;\">\n",
       "      <th></th>\n",
       "      <th>Specific ailments</th>\n",
       "      <th>Age</th>\n",
       "      <th>BMI</th>\n",
       "      <th>Follow Diet</th>\n",
       "      <th>Physical activity</th>\n",
       "      <th>Regular sleeping hours</th>\n",
       "      <th>Alcohol consumption</th>\n",
       "      <th>Social interaction</th>\n",
       "      <th>Taking supplements</th>\n",
       "      <th>Mental health management</th>\n",
       "      <th>Illness count last year</th>\n",
       "      <th>Healthy</th>\n",
       "      <th>Smoker?_Cannot say</th>\n",
       "      <th>Smoker?_NO</th>\n",
       "      <th>Smoker?_YES</th>\n",
       "      <th>Living in?_RURAL</th>\n",
       "      <th>Living in?_URBAN</th>\n",
       "      <th>Any heriditary condition?_Stable</th>\n",
       "    </tr>\n",
       "  </thead>\n",
       "  <tbody>\n",
       "    <tr>\n",
       "      <th>0</th>\n",
       "      <td>44</td>\n",
       "      <td>49</td>\n",
       "      <td>20.500470</td>\n",
       "      <td>1.0</td>\n",
       "      <td>0.0</td>\n",
       "      <td>0.0</td>\n",
       "      <td>0.0</td>\n",
       "      <td>0.0</td>\n",
       "      <td>0.0</td>\n",
       "      <td>0.0</td>\n",
       "      <td>1.0</td>\n",
       "      <td>1</td>\n",
       "      <td>0</td>\n",
       "      <td>1</td>\n",
       "      <td>0</td>\n",
       "      <td>1</td>\n",
       "      <td>0</td>\n",
       "      <td>1</td>\n",
       "    </tr>\n",
       "    <tr>\n",
       "      <th>1</th>\n",
       "      <td>39</td>\n",
       "      <td>20</td>\n",
       "      <td>26.076580</td>\n",
       "      <td>0.0</td>\n",
       "      <td>0.0</td>\n",
       "      <td>0.0</td>\n",
       "      <td>0.0</td>\n",
       "      <td>1.0</td>\n",
       "      <td>0.0</td>\n",
       "      <td>0.0</td>\n",
       "      <td>1.0</td>\n",
       "      <td>1</td>\n",
       "      <td>0</td>\n",
       "      <td>1</td>\n",
       "      <td>0</td>\n",
       "      <td>0</td>\n",
       "      <td>1</td>\n",
       "      <td>1</td>\n",
       "    </tr>\n",
       "    <tr>\n",
       "      <th>2</th>\n",
       "      <td>29</td>\n",
       "      <td>1</td>\n",
       "      <td>21.420866</td>\n",
       "      <td>1.0</td>\n",
       "      <td>0.0</td>\n",
       "      <td>0.0</td>\n",
       "      <td>0.0</td>\n",
       "      <td>0.0</td>\n",
       "      <td>0.0</td>\n",
       "      <td>0.0</td>\n",
       "      <td>1.0</td>\n",
       "      <td>0</td>\n",
       "      <td>0</td>\n",
       "      <td>1</td>\n",
       "      <td>0</td>\n",
       "      <td>0</td>\n",
       "      <td>1</td>\n",
       "      <td>1</td>\n",
       "    </tr>\n",
       "    <tr>\n",
       "      <th>3</th>\n",
       "      <td>27</td>\n",
       "      <td>30</td>\n",
       "      <td>25.203247</td>\n",
       "      <td>1.0</td>\n",
       "      <td>0.0</td>\n",
       "      <td>0.0</td>\n",
       "      <td>0.0</td>\n",
       "      <td>0.0</td>\n",
       "      <td>0.0</td>\n",
       "      <td>0.0</td>\n",
       "      <td>1.0</td>\n",
       "      <td>1</td>\n",
       "      <td>0</td>\n",
       "      <td>1</td>\n",
       "      <td>0</td>\n",
       "      <td>1</td>\n",
       "      <td>0</td>\n",
       "      <td>1</td>\n",
       "    </tr>\n",
       "    <tr>\n",
       "      <th>4</th>\n",
       "      <td>9</td>\n",
       "      <td>40</td>\n",
       "      <td>19.355846</td>\n",
       "      <td>1.0</td>\n",
       "      <td>0.0</td>\n",
       "      <td>0.0</td>\n",
       "      <td>0.0</td>\n",
       "      <td>1.0</td>\n",
       "      <td>0.0</td>\n",
       "      <td>0.0</td>\n",
       "      <td>2.0</td>\n",
       "      <td>1</td>\n",
       "      <td>0</td>\n",
       "      <td>0</td>\n",
       "      <td>1</td>\n",
       "      <td>1</td>\n",
       "      <td>0</td>\n",
       "      <td>1</td>\n",
       "    </tr>\n",
       "  </tbody>\n",
       "</table>\n",
       "</div>"
      ],
      "text/plain": [
       "   Specific ailments  Age        BMI  Follow Diet  Physical activity  \\\n",
       "0                 44   49  20.500470          1.0                0.0   \n",
       "1                 39   20  26.076580          0.0                0.0   \n",
       "2                 29    1  21.420866          1.0                0.0   \n",
       "3                 27   30  25.203247          1.0                0.0   \n",
       "4                  9   40  19.355846          1.0                0.0   \n",
       "\n",
       "   Regular sleeping hours  Alcohol consumption  Social interaction  \\\n",
       "0                     0.0                  0.0                 0.0   \n",
       "1                     0.0                  0.0                 1.0   \n",
       "2                     0.0                  0.0                 0.0   \n",
       "3                     0.0                  0.0                 0.0   \n",
       "4                     0.0                  0.0                 1.0   \n",
       "\n",
       "   Taking supplements  Mental health management  Illness count last year  \\\n",
       "0                 0.0                       0.0                      1.0   \n",
       "1                 0.0                       0.0                      1.0   \n",
       "2                 0.0                       0.0                      1.0   \n",
       "3                 0.0                       0.0                      1.0   \n",
       "4                 0.0                       0.0                      2.0   \n",
       "\n",
       "   Healthy  Smoker?_Cannot say  Smoker?_NO  Smoker?_YES  Living in?_RURAL  \\\n",
       "0        1                   0           1            0                 1   \n",
       "1        1                   0           1            0                 0   \n",
       "2        0                   0           1            0                 0   \n",
       "3        1                   0           1            0                 1   \n",
       "4        1                   0           0            1                 1   \n",
       "\n",
       "   Living in?_URBAN  Any heriditary condition?_Stable  \n",
       "0                 0                                 1  \n",
       "1                 1                                 1  \n",
       "2                 1                                 1  \n",
       "3                 0                                 1  \n",
       "4                 0                                 1  "
      ]
     },
     "execution_count": 31,
     "metadata": {},
     "output_type": "execute_result"
    }
   ],
   "source": [
    "df_train.head()"
   ]
  },
  {
   "cell_type": "code",
   "execution_count": null,
   "id": "b544551a",
   "metadata": {},
   "outputs": [],
   "source": []
  },
  {
   "cell_type": "code",
   "execution_count": null,
   "id": "710c5a52",
   "metadata": {},
   "outputs": [],
   "source": []
  },
  {
   "cell_type": "code",
   "execution_count": null,
   "id": "a6138d1e",
   "metadata": {},
   "outputs": [],
   "source": []
  },
  {
   "cell_type": "code",
   "execution_count": null,
   "id": "03096915",
   "metadata": {},
   "outputs": [],
   "source": []
  },
  {
   "cell_type": "code",
   "execution_count": null,
   "id": "6d63c8ec",
   "metadata": {},
   "outputs": [],
   "source": []
  },
  {
   "cell_type": "code",
   "execution_count": 32,
   "id": "193f364f",
   "metadata": {},
   "outputs": [
    {
     "data": {
      "text/plain": [
       "array([[44.        , 49.        , 20.50046954, ...,  1.        ,\n",
       "         0.        ,  1.        ],\n",
       "       [39.        , 20.        , 26.07657952, ...,  0.        ,\n",
       "         1.        ,  1.        ],\n",
       "       [29.        ,  1.        , 21.42086578, ...,  0.        ,\n",
       "         1.        ,  1.        ],\n",
       "       ...,\n",
       "       [44.        ,  8.        , 28.6029215 , ...,  1.        ,\n",
       "         0.        ,  1.        ],\n",
       "       [52.        , 52.        , 21.90983244, ...,  1.        ,\n",
       "         0.        ,  1.        ],\n",
       "       [17.        , 41.        , 23.82881337, ...,  1.        ,\n",
       "         0.        ,  1.        ]])"
      ]
     },
     "execution_count": 32,
     "metadata": {},
     "output_type": "execute_result"
    }
   ],
   "source": [
    "X = df_train.drop(['Healthy'],axis=1)\n",
    "X = np.asarray(X)\n",
    "X"
   ]
  },
  {
   "cell_type": "code",
   "execution_count": 33,
   "id": "e2cbc9c2",
   "metadata": {},
   "outputs": [
    {
     "data": {
      "text/plain": [
       "array([1, 1, 0, ..., 1, 1, 1], dtype=int64)"
      ]
     },
     "execution_count": 33,
     "metadata": {},
     "output_type": "execute_result"
    }
   ],
   "source": [
    "y = df_train.Healthy\n",
    "y = np.asarray(y)\n",
    "y"
   ]
  },
  {
   "cell_type": "code",
   "execution_count": 40,
   "id": "1cc68786",
   "metadata": {},
   "outputs": [],
   "source": [
    "from sklearn.model_selection import train_test_split\n",
    "\n",
    "X_train,X_test,y_train,y_test = train_test_split(X,y,test_size=0.3)"
   ]
  },
  {
   "cell_type": "code",
   "execution_count": 52,
   "id": "d371bfa4",
   "metadata": {},
   "outputs": [
    {
     "data": {
      "text/plain": [
       "array([[ 2.        , 53.        , 29.10374372, ...,  1.        ,\n",
       "         0.        ,  1.        ],\n",
       "       [17.        , 16.        , 25.3746227 , ...,  1.        ,\n",
       "         0.        ,  1.        ],\n",
       "       [ 8.        , 25.        , 28.25756493, ...,  1.        ,\n",
       "         0.        ,  1.        ],\n",
       "       ...,\n",
       "       [11.        , 56.        , 17.77107417, ...,  1.        ,\n",
       "         0.        ,  1.        ],\n",
       "       [29.        , 11.        , 23.02824837, ...,  1.        ,\n",
       "         0.        ,  1.        ],\n",
       "       [31.        , 57.        , 27.90675524, ...,  0.        ,\n",
       "         1.        ,  1.        ]])"
      ]
     },
     "execution_count": 52,
     "metadata": {},
     "output_type": "execute_result"
    }
   ],
   "source": [
    "X_train"
   ]
  },
  {
   "cell_type": "code",
   "execution_count": 53,
   "id": "d0ed7f4f",
   "metadata": {},
   "outputs": [
    {
     "data": {
      "text/plain": [
       "array([0, 1, 1, ..., 0, 1, 0], dtype=int64)"
      ]
     },
     "execution_count": 53,
     "metadata": {},
     "output_type": "execute_result"
    }
   ],
   "source": [
    "y_train"
   ]
  },
  {
   "cell_type": "code",
   "execution_count": null,
   "id": "825957ee",
   "metadata": {},
   "outputs": [],
   "source": []
  },
  {
   "cell_type": "code",
   "execution_count": 35,
   "id": "aec20231",
   "metadata": {},
   "outputs": [],
   "source": [
    "import xgboost as xgb\n",
    "\n",
    "clf_xgb = xgb.XGBClassifier(objective='binary:logistic',seed=42,subsample=0.9,colsample_bytree=0.5) "
   ]
  },
  {
   "cell_type": "code",
   "execution_count": 36,
   "id": "08999bf3",
   "metadata": {},
   "outputs": [],
   "source": []
  },
  {
   "cell_type": "code",
   "execution_count": 43,
   "id": "93afb7b9",
   "metadata": {},
   "outputs": [],
   "source": [
    "from sklearn.model_selection import GridSearchCV\n",
    "\n",
    "param_grid = {'max_depth':[3,4,5],'learning_rate':[0.1,0.01,0.05],'gamma':[0,0,25,1],'reg_lambda':[0,1,10],\n",
    "              'scale_pos_weight':[1,3,5]}\n",
    "optimal_params = GridSearchCV(clf_xgb,param_grid,scoring='roc_auc',verbose=0,n_jobs=10,cv=3)"
   ]
  },
  {
   "cell_type": "code",
   "execution_count": 41,
   "id": "ca554c4d",
   "metadata": {},
   "outputs": [
    {
     "name": "stderr",
     "output_type": "stream",
     "text": [
      "C:\\Users\\Argha009\\anaconda3\\lib\\site-packages\\xgboost\\sklearn.py:835: UserWarning: `eval_metric` in `fit` method is deprecated for better compatibility with scikit-learn, use `eval_metric` in constructor or`set_params` instead.\n",
      "  warnings.warn(\n",
      "C:\\Users\\Argha009\\anaconda3\\lib\\site-packages\\xgboost\\sklearn.py:835: UserWarning: `early_stopping_rounds` in `fit` method is deprecated for better compatibility with scikit-learn, use `early_stopping_rounds` in constructor or`set_params` instead.\n",
      "  warnings.warn(\n"
     ]
    },
    {
     "data": {
      "text/html": [
       "<style>#sk-container-id-2 {color: black;background-color: white;}#sk-container-id-2 pre{padding: 0;}#sk-container-id-2 div.sk-toggleable {background-color: white;}#sk-container-id-2 label.sk-toggleable__label {cursor: pointer;display: block;width: 100%;margin-bottom: 0;padding: 0.3em;box-sizing: border-box;text-align: center;}#sk-container-id-2 label.sk-toggleable__label-arrow:before {content: \"▸\";float: left;margin-right: 0.25em;color: #696969;}#sk-container-id-2 label.sk-toggleable__label-arrow:hover:before {color: black;}#sk-container-id-2 div.sk-estimator:hover label.sk-toggleable__label-arrow:before {color: black;}#sk-container-id-2 div.sk-toggleable__content {max-height: 0;max-width: 0;overflow: hidden;text-align: left;background-color: #f0f8ff;}#sk-container-id-2 div.sk-toggleable__content pre {margin: 0.2em;color: black;border-radius: 0.25em;background-color: #f0f8ff;}#sk-container-id-2 input.sk-toggleable__control:checked~div.sk-toggleable__content {max-height: 200px;max-width: 100%;overflow: auto;}#sk-container-id-2 input.sk-toggleable__control:checked~label.sk-toggleable__label-arrow:before {content: \"▾\";}#sk-container-id-2 div.sk-estimator input.sk-toggleable__control:checked~label.sk-toggleable__label {background-color: #d4ebff;}#sk-container-id-2 div.sk-label input.sk-toggleable__control:checked~label.sk-toggleable__label {background-color: #d4ebff;}#sk-container-id-2 input.sk-hidden--visually {border: 0;clip: rect(1px 1px 1px 1px);clip: rect(1px, 1px, 1px, 1px);height: 1px;margin: -1px;overflow: hidden;padding: 0;position: absolute;width: 1px;}#sk-container-id-2 div.sk-estimator {font-family: monospace;background-color: #f0f8ff;border: 1px dotted black;border-radius: 0.25em;box-sizing: border-box;margin-bottom: 0.5em;}#sk-container-id-2 div.sk-estimator:hover {background-color: #d4ebff;}#sk-container-id-2 div.sk-parallel-item::after {content: \"\";width: 100%;border-bottom: 1px solid gray;flex-grow: 1;}#sk-container-id-2 div.sk-label:hover label.sk-toggleable__label {background-color: #d4ebff;}#sk-container-id-2 div.sk-serial::before {content: \"\";position: absolute;border-left: 1px solid gray;box-sizing: border-box;top: 0;bottom: 0;left: 50%;z-index: 0;}#sk-container-id-2 div.sk-serial {display: flex;flex-direction: column;align-items: center;background-color: white;padding-right: 0.2em;padding-left: 0.2em;position: relative;}#sk-container-id-2 div.sk-item {position: relative;z-index: 1;}#sk-container-id-2 div.sk-parallel {display: flex;align-items: stretch;justify-content: center;background-color: white;position: relative;}#sk-container-id-2 div.sk-item::before, #sk-container-id-2 div.sk-parallel-item::before {content: \"\";position: absolute;border-left: 1px solid gray;box-sizing: border-box;top: 0;bottom: 0;left: 50%;z-index: -1;}#sk-container-id-2 div.sk-parallel-item {display: flex;flex-direction: column;z-index: 1;position: relative;background-color: white;}#sk-container-id-2 div.sk-parallel-item:first-child::after {align-self: flex-end;width: 50%;}#sk-container-id-2 div.sk-parallel-item:last-child::after {align-self: flex-start;width: 50%;}#sk-container-id-2 div.sk-parallel-item:only-child::after {width: 0;}#sk-container-id-2 div.sk-dashed-wrapped {border: 1px dashed gray;margin: 0 0.4em 0.5em 0.4em;box-sizing: border-box;padding-bottom: 0.4em;background-color: white;}#sk-container-id-2 div.sk-label label {font-family: monospace;font-weight: bold;display: inline-block;line-height: 1.2em;}#sk-container-id-2 div.sk-label-container {text-align: center;}#sk-container-id-2 div.sk-container {/* jupyter's `normalize.less` sets `[hidden] { display: none; }` but bootstrap.min.css set `[hidden] { display: none !important; }` so we also need the `!important` here to be able to override the default hidden behavior on the sphinx rendered scikit-learn.org. See: https://github.com/scikit-learn/scikit-learn/issues/21755 */display: inline-block !important;position: relative;}#sk-container-id-2 div.sk-text-repr-fallback {display: none;}</style><div id=\"sk-container-id-2\" class=\"sk-top-container\"><div class=\"sk-text-repr-fallback\"><pre>GridSearchCV(cv=3,\n",
       "             estimator=XGBClassifier(base_score=None, booster=None,\n",
       "                                     callbacks=None, colsample_bylevel=None,\n",
       "                                     colsample_bynode=None,\n",
       "                                     colsample_bytree=0.5,\n",
       "                                     early_stopping_rounds=None,\n",
       "                                     enable_categorical=False, eval_metric=None,\n",
       "                                     feature_types=None, gamma=None,\n",
       "                                     gpu_id=None, grow_policy=None,\n",
       "                                     importance_type=None,\n",
       "                                     interaction_constraints=None,\n",
       "                                     learning_rate=None, m...\n",
       "                                     max_delta_step=None, max_depth=None,\n",
       "                                     max_leaves=None, min_child_weight=None,\n",
       "                                     missing=nan, monotone_constraints=None,\n",
       "                                     n_estimators=100, n_jobs=None,\n",
       "                                     num_parallel_tree=None, predictor=None,\n",
       "                                     random_state=None, ...),\n",
       "             n_jobs=10,\n",
       "             param_grid={&#x27;gamma&#x27;: [0, 0, 25, 1],\n",
       "                         &#x27;learning_rate&#x27;: [0.1, 0.01, 0.05],\n",
       "                         &#x27;max_depth&#x27;: [3, 4, 5], &#x27;reg_lambda&#x27;: [0, 1, 10],\n",
       "                         &#x27;scale_pos_weight&#x27;: [1, 3, 5]},\n",
       "             scoring=&#x27;roc_auc&#x27;)</pre><b>In a Jupyter environment, please rerun this cell to show the HTML representation or trust the notebook. <br />On GitHub, the HTML representation is unable to render, please try loading this page with nbviewer.org.</b></div><div class=\"sk-container\" hidden><div class=\"sk-item sk-dashed-wrapped\"><div class=\"sk-label-container\"><div class=\"sk-label sk-toggleable\"><input class=\"sk-toggleable__control sk-hidden--visually\" id=\"sk-estimator-id-4\" type=\"checkbox\" ><label for=\"sk-estimator-id-4\" class=\"sk-toggleable__label sk-toggleable__label-arrow\">GridSearchCV</label><div class=\"sk-toggleable__content\"><pre>GridSearchCV(cv=3,\n",
       "             estimator=XGBClassifier(base_score=None, booster=None,\n",
       "                                     callbacks=None, colsample_bylevel=None,\n",
       "                                     colsample_bynode=None,\n",
       "                                     colsample_bytree=0.5,\n",
       "                                     early_stopping_rounds=None,\n",
       "                                     enable_categorical=False, eval_metric=None,\n",
       "                                     feature_types=None, gamma=None,\n",
       "                                     gpu_id=None, grow_policy=None,\n",
       "                                     importance_type=None,\n",
       "                                     interaction_constraints=None,\n",
       "                                     learning_rate=None, m...\n",
       "                                     max_delta_step=None, max_depth=None,\n",
       "                                     max_leaves=None, min_child_weight=None,\n",
       "                                     missing=nan, monotone_constraints=None,\n",
       "                                     n_estimators=100, n_jobs=None,\n",
       "                                     num_parallel_tree=None, predictor=None,\n",
       "                                     random_state=None, ...),\n",
       "             n_jobs=10,\n",
       "             param_grid={&#x27;gamma&#x27;: [0, 0, 25, 1],\n",
       "                         &#x27;learning_rate&#x27;: [0.1, 0.01, 0.05],\n",
       "                         &#x27;max_depth&#x27;: [3, 4, 5], &#x27;reg_lambda&#x27;: [0, 1, 10],\n",
       "                         &#x27;scale_pos_weight&#x27;: [1, 3, 5]},\n",
       "             scoring=&#x27;roc_auc&#x27;)</pre></div></div></div><div class=\"sk-parallel\"><div class=\"sk-parallel-item\"><div class=\"sk-item\"><div class=\"sk-label-container\"><div class=\"sk-label sk-toggleable\"><input class=\"sk-toggleable__control sk-hidden--visually\" id=\"sk-estimator-id-5\" type=\"checkbox\" ><label for=\"sk-estimator-id-5\" class=\"sk-toggleable__label sk-toggleable__label-arrow\">estimator: XGBClassifier</label><div class=\"sk-toggleable__content\"><pre>XGBClassifier(base_score=None, booster=None, callbacks=None,\n",
       "              colsample_bylevel=None, colsample_bynode=None,\n",
       "              colsample_bytree=0.5, early_stopping_rounds=None,\n",
       "              enable_categorical=False, eval_metric=None, feature_types=None,\n",
       "              gamma=None, gpu_id=None, grow_policy=None, importance_type=None,\n",
       "              interaction_constraints=None, learning_rate=None, max_bin=None,\n",
       "              max_cat_threshold=None, max_cat_to_onehot=None,\n",
       "              max_delta_step=None, max_depth=None, max_leaves=None,\n",
       "              min_child_weight=None, missing=nan, monotone_constraints=None,\n",
       "              n_estimators=100, n_jobs=None, num_parallel_tree=None,\n",
       "              predictor=None, random_state=None, ...)</pre></div></div></div><div class=\"sk-serial\"><div class=\"sk-item\"><div class=\"sk-estimator sk-toggleable\"><input class=\"sk-toggleable__control sk-hidden--visually\" id=\"sk-estimator-id-6\" type=\"checkbox\" ><label for=\"sk-estimator-id-6\" class=\"sk-toggleable__label sk-toggleable__label-arrow\">XGBClassifier</label><div class=\"sk-toggleable__content\"><pre>XGBClassifier(base_score=None, booster=None, callbacks=None,\n",
       "              colsample_bylevel=None, colsample_bynode=None,\n",
       "              colsample_bytree=0.5, early_stopping_rounds=None,\n",
       "              enable_categorical=False, eval_metric=None, feature_types=None,\n",
       "              gamma=None, gpu_id=None, grow_policy=None, importance_type=None,\n",
       "              interaction_constraints=None, learning_rate=None, max_bin=None,\n",
       "              max_cat_threshold=None, max_cat_to_onehot=None,\n",
       "              max_delta_step=None, max_depth=None, max_leaves=None,\n",
       "              min_child_weight=None, missing=nan, monotone_constraints=None,\n",
       "              n_estimators=100, n_jobs=None, num_parallel_tree=None,\n",
       "              predictor=None, random_state=None, ...)</pre></div></div></div></div></div></div></div></div></div></div>"
      ],
      "text/plain": [
       "GridSearchCV(cv=3,\n",
       "             estimator=XGBClassifier(base_score=None, booster=None,\n",
       "                                     callbacks=None, colsample_bylevel=None,\n",
       "                                     colsample_bynode=None,\n",
       "                                     colsample_bytree=0.5,\n",
       "                                     early_stopping_rounds=None,\n",
       "                                     enable_categorical=False, eval_metric=None,\n",
       "                                     feature_types=None, gamma=None,\n",
       "                                     gpu_id=None, grow_policy=None,\n",
       "                                     importance_type=None,\n",
       "                                     interaction_constraints=None,\n",
       "                                     learning_rate=None, m...\n",
       "                                     max_delta_step=None, max_depth=None,\n",
       "                                     max_leaves=None, min_child_weight=None,\n",
       "                                     missing=nan, monotone_constraints=None,\n",
       "                                     n_estimators=100, n_jobs=None,\n",
       "                                     num_parallel_tree=None, predictor=None,\n",
       "                                     random_state=None, ...),\n",
       "             n_jobs=10,\n",
       "             param_grid={'gamma': [0, 0, 25, 1],\n",
       "                         'learning_rate': [0.1, 0.01, 0.05],\n",
       "                         'max_depth': [3, 4, 5], 'reg_lambda': [0, 1, 10],\n",
       "                         'scale_pos_weight': [1, 3, 5]},\n",
       "             scoring='roc_auc')"
      ]
     },
     "execution_count": 41,
     "metadata": {},
     "output_type": "execute_result"
    }
   ],
   "source": [
    "optimal_params.fit(X_train,y_train,early_stopping_rounds=10,eval_metric='aucpr',eval_set=[(X_test,y_test)],verbose=False)"
   ]
  },
  {
   "cell_type": "code",
   "execution_count": 42,
   "id": "8a75ab9f",
   "metadata": {},
   "outputs": [
    {
     "data": {
      "text/plain": [
       "{'gamma': 0,\n",
       " 'learning_rate': 0.1,\n",
       " 'max_depth': 4,\n",
       " 'reg_lambda': 0,\n",
       " 'scale_pos_weight': 1}"
      ]
     },
     "execution_count": 42,
     "metadata": {},
     "output_type": "execute_result"
    }
   ],
   "source": [
    "optimal_params.best_params_"
   ]
  },
  {
   "cell_type": "code",
   "execution_count": 46,
   "id": "4ed4e814",
   "metadata": {},
   "outputs": [
    {
     "name": "stdout",
     "output_type": "stream",
     "text": [
      "[0]\tvalidation_0-aucpr:0.79986\n",
      "[1]\tvalidation_0-aucpr:0.81911\n",
      "[2]\tvalidation_0-aucpr:0.81755\n",
      "[3]\tvalidation_0-aucpr:0.83524\n",
      "[4]\tvalidation_0-aucpr:0.83624\n",
      "[5]\tvalidation_0-aucpr:0.83799\n",
      "[6]\tvalidation_0-aucpr:0.84297\n",
      "[7]\tvalidation_0-aucpr:0.84500\n",
      "[8]\tvalidation_0-aucpr:0.84637\n",
      "[9]\tvalidation_0-aucpr:0.85115\n",
      "[10]\tvalidation_0-aucpr:0.85671\n",
      "[11]\tvalidation_0-aucpr:0.85923\n",
      "[12]\tvalidation_0-aucpr:0.86025\n",
      "[13]\tvalidation_0-aucpr:0.86103\n",
      "[14]\tvalidation_0-aucpr:0.86288\n",
      "[15]\tvalidation_0-aucpr:0.86371\n",
      "[16]\tvalidation_0-aucpr:0.86530\n",
      "[17]\tvalidation_0-aucpr:0.86572\n",
      "[18]\tvalidation_0-aucpr:0.86718\n",
      "[19]\tvalidation_0-aucpr:0.86733\n",
      "[20]\tvalidation_0-aucpr:0.86736\n",
      "[21]\tvalidation_0-aucpr:0.86603\n",
      "[22]\tvalidation_0-aucpr:0.86594\n",
      "[23]\tvalidation_0-aucpr:0.86816\n",
      "[24]\tvalidation_0-aucpr:0.86840\n",
      "[25]\tvalidation_0-aucpr:0.86840\n",
      "[26]\tvalidation_0-aucpr:0.86883\n",
      "[27]\tvalidation_0-aucpr:0.86967\n",
      "[28]\tvalidation_0-aucpr:0.87083\n",
      "[29]\tvalidation_0-aucpr:0.87029\n",
      "[30]\tvalidation_0-aucpr:0.87108\n",
      "[31]\tvalidation_0-aucpr:0.87163\n",
      "[32]\tvalidation_0-aucpr:0.87171\n",
      "[33]\tvalidation_0-aucpr:0.87219\n",
      "[34]\tvalidation_0-aucpr:0.87232\n",
      "[35]\tvalidation_0-aucpr:0.87301\n",
      "[36]\tvalidation_0-aucpr:0.87333\n",
      "[37]\tvalidation_0-aucpr:0.87345\n",
      "[38]\tvalidation_0-aucpr:0.87339\n",
      "[39]\tvalidation_0-aucpr:0.87327\n",
      "[40]\tvalidation_0-aucpr:0.87337\n",
      "[41]\tvalidation_0-aucpr:0.87337\n",
      "[42]\tvalidation_0-aucpr:0.87365\n",
      "[43]\tvalidation_0-aucpr:0.87381\n",
      "[44]\tvalidation_0-aucpr:0.87406\n",
      "[45]\tvalidation_0-aucpr:0.87415\n",
      "[46]\tvalidation_0-aucpr:0.87422\n",
      "[47]\tvalidation_0-aucpr:0.87415\n",
      "[48]\tvalidation_0-aucpr:0.87419\n",
      "[49]\tvalidation_0-aucpr:0.87430\n",
      "[50]\tvalidation_0-aucpr:0.87430\n",
      "[51]\tvalidation_0-aucpr:0.87435\n",
      "[52]\tvalidation_0-aucpr:0.87454\n",
      "[53]\tvalidation_0-aucpr:0.87459\n",
      "[54]\tvalidation_0-aucpr:0.87456\n",
      "[55]\tvalidation_0-aucpr:0.87475\n",
      "[56]\tvalidation_0-aucpr:0.87493\n",
      "[57]\tvalidation_0-aucpr:0.87496\n",
      "[58]\tvalidation_0-aucpr:0.87502\n",
      "[59]\tvalidation_0-aucpr:0.87496\n",
      "[60]\tvalidation_0-aucpr:0.87518\n",
      "[61]\tvalidation_0-aucpr:0.87508\n",
      "[62]\tvalidation_0-aucpr:0.87522\n",
      "[63]\tvalidation_0-aucpr:0.87519\n",
      "[64]\tvalidation_0-aucpr:0.87536\n",
      "[65]\tvalidation_0-aucpr:0.87569\n",
      "[66]\tvalidation_0-aucpr:0.87544\n",
      "[67]\tvalidation_0-aucpr:0.87546\n",
      "[68]\tvalidation_0-aucpr:0.87556\n",
      "[69]\tvalidation_0-aucpr:0.87544\n",
      "[70]\tvalidation_0-aucpr:0.87532\n",
      "[71]\tvalidation_0-aucpr:0.87539\n",
      "[72]\tvalidation_0-aucpr:0.87561\n",
      "[73]\tvalidation_0-aucpr:0.87570\n",
      "[74]\tvalidation_0-aucpr:0.87583\n",
      "[75]\tvalidation_0-aucpr:0.87605\n",
      "[76]\tvalidation_0-aucpr:0.87605\n",
      "[77]\tvalidation_0-aucpr:0.87608\n",
      "[78]\tvalidation_0-aucpr:0.87609\n",
      "[79]\tvalidation_0-aucpr:0.87613\n",
      "[80]\tvalidation_0-aucpr:0.87592\n",
      "[81]\tvalidation_0-aucpr:0.87604\n",
      "[82]\tvalidation_0-aucpr:0.87628\n",
      "[83]\tvalidation_0-aucpr:0.87637\n",
      "[84]\tvalidation_0-aucpr:0.87656\n",
      "[85]\tvalidation_0-aucpr:0.87663\n",
      "[86]\tvalidation_0-aucpr:0.87697\n",
      "[87]\tvalidation_0-aucpr:0.87690\n",
      "[88]\tvalidation_0-aucpr:0.87663\n",
      "[89]\tvalidation_0-aucpr:0.87650\n",
      "[90]\tvalidation_0-aucpr:0.87661\n",
      "[91]\tvalidation_0-aucpr:0.87648\n",
      "[92]\tvalidation_0-aucpr:0.87659\n",
      "[93]\tvalidation_0-aucpr:0.87665\n",
      "[94]\tvalidation_0-aucpr:0.87664\n",
      "[95]\tvalidation_0-aucpr:0.87674\n"
     ]
    },
    {
     "data": {
      "text/html": [
       "<style>#sk-container-id-5 {color: black;background-color: white;}#sk-container-id-5 pre{padding: 0;}#sk-container-id-5 div.sk-toggleable {background-color: white;}#sk-container-id-5 label.sk-toggleable__label {cursor: pointer;display: block;width: 100%;margin-bottom: 0;padding: 0.3em;box-sizing: border-box;text-align: center;}#sk-container-id-5 label.sk-toggleable__label-arrow:before {content: \"▸\";float: left;margin-right: 0.25em;color: #696969;}#sk-container-id-5 label.sk-toggleable__label-arrow:hover:before {color: black;}#sk-container-id-5 div.sk-estimator:hover label.sk-toggleable__label-arrow:before {color: black;}#sk-container-id-5 div.sk-toggleable__content {max-height: 0;max-width: 0;overflow: hidden;text-align: left;background-color: #f0f8ff;}#sk-container-id-5 div.sk-toggleable__content pre {margin: 0.2em;color: black;border-radius: 0.25em;background-color: #f0f8ff;}#sk-container-id-5 input.sk-toggleable__control:checked~div.sk-toggleable__content {max-height: 200px;max-width: 100%;overflow: auto;}#sk-container-id-5 input.sk-toggleable__control:checked~label.sk-toggleable__label-arrow:before {content: \"▾\";}#sk-container-id-5 div.sk-estimator input.sk-toggleable__control:checked~label.sk-toggleable__label {background-color: #d4ebff;}#sk-container-id-5 div.sk-label input.sk-toggleable__control:checked~label.sk-toggleable__label {background-color: #d4ebff;}#sk-container-id-5 input.sk-hidden--visually {border: 0;clip: rect(1px 1px 1px 1px);clip: rect(1px, 1px, 1px, 1px);height: 1px;margin: -1px;overflow: hidden;padding: 0;position: absolute;width: 1px;}#sk-container-id-5 div.sk-estimator {font-family: monospace;background-color: #f0f8ff;border: 1px dotted black;border-radius: 0.25em;box-sizing: border-box;margin-bottom: 0.5em;}#sk-container-id-5 div.sk-estimator:hover {background-color: #d4ebff;}#sk-container-id-5 div.sk-parallel-item::after {content: \"\";width: 100%;border-bottom: 1px solid gray;flex-grow: 1;}#sk-container-id-5 div.sk-label:hover label.sk-toggleable__label {background-color: #d4ebff;}#sk-container-id-5 div.sk-serial::before {content: \"\";position: absolute;border-left: 1px solid gray;box-sizing: border-box;top: 0;bottom: 0;left: 50%;z-index: 0;}#sk-container-id-5 div.sk-serial {display: flex;flex-direction: column;align-items: center;background-color: white;padding-right: 0.2em;padding-left: 0.2em;position: relative;}#sk-container-id-5 div.sk-item {position: relative;z-index: 1;}#sk-container-id-5 div.sk-parallel {display: flex;align-items: stretch;justify-content: center;background-color: white;position: relative;}#sk-container-id-5 div.sk-item::before, #sk-container-id-5 div.sk-parallel-item::before {content: \"\";position: absolute;border-left: 1px solid gray;box-sizing: border-box;top: 0;bottom: 0;left: 50%;z-index: -1;}#sk-container-id-5 div.sk-parallel-item {display: flex;flex-direction: column;z-index: 1;position: relative;background-color: white;}#sk-container-id-5 div.sk-parallel-item:first-child::after {align-self: flex-end;width: 50%;}#sk-container-id-5 div.sk-parallel-item:last-child::after {align-self: flex-start;width: 50%;}#sk-container-id-5 div.sk-parallel-item:only-child::after {width: 0;}#sk-container-id-5 div.sk-dashed-wrapped {border: 1px dashed gray;margin: 0 0.4em 0.5em 0.4em;box-sizing: border-box;padding-bottom: 0.4em;background-color: white;}#sk-container-id-5 div.sk-label label {font-family: monospace;font-weight: bold;display: inline-block;line-height: 1.2em;}#sk-container-id-5 div.sk-label-container {text-align: center;}#sk-container-id-5 div.sk-container {/* jupyter's `normalize.less` sets `[hidden] { display: none; }` but bootstrap.min.css set `[hidden] { display: none !important; }` so we also need the `!important` here to be able to override the default hidden behavior on the sphinx rendered scikit-learn.org. See: https://github.com/scikit-learn/scikit-learn/issues/21755 */display: inline-block !important;position: relative;}#sk-container-id-5 div.sk-text-repr-fallback {display: none;}</style><div id=\"sk-container-id-5\" class=\"sk-top-container\"><div class=\"sk-text-repr-fallback\"><pre>XGBClassifier(base_score=None, booster=None, callbacks=None,\n",
       "              colsample_bylevel=None, colsample_bynode=None,\n",
       "              colsample_bytree=0.5, early_stopping_rounds=None,\n",
       "              enable_categorical=False, eval_metric=None, feature_types=None,\n",
       "              gamma=0, gpu_id=None, grow_policy=None, importance_type=None,\n",
       "              interaction_constraints=None, learning_rate=0.1, max_bin=None,\n",
       "              max_cat_threshold=None, max_cat_to_onehot=None,\n",
       "              max_delta_step=None, max_depth=4, max_leaves=None,\n",
       "              min_child_weight=None, missing=nan, monotone_constraints=None,\n",
       "              n_estimators=100, n_jobs=None, num_parallel_tree=None,\n",
       "              predictor=None, random_state=None, ...)</pre><b>In a Jupyter environment, please rerun this cell to show the HTML representation or trust the notebook. <br />On GitHub, the HTML representation is unable to render, please try loading this page with nbviewer.org.</b></div><div class=\"sk-container\" hidden><div class=\"sk-item\"><div class=\"sk-estimator sk-toggleable\"><input class=\"sk-toggleable__control sk-hidden--visually\" id=\"sk-estimator-id-9\" type=\"checkbox\" checked><label for=\"sk-estimator-id-9\" class=\"sk-toggleable__label sk-toggleable__label-arrow\">XGBClassifier</label><div class=\"sk-toggleable__content\"><pre>XGBClassifier(base_score=None, booster=None, callbacks=None,\n",
       "              colsample_bylevel=None, colsample_bynode=None,\n",
       "              colsample_bytree=0.5, early_stopping_rounds=None,\n",
       "              enable_categorical=False, eval_metric=None, feature_types=None,\n",
       "              gamma=0, gpu_id=None, grow_policy=None, importance_type=None,\n",
       "              interaction_constraints=None, learning_rate=0.1, max_bin=None,\n",
       "              max_cat_threshold=None, max_cat_to_onehot=None,\n",
       "              max_delta_step=None, max_depth=4, max_leaves=None,\n",
       "              min_child_weight=None, missing=nan, monotone_constraints=None,\n",
       "              n_estimators=100, n_jobs=None, num_parallel_tree=None,\n",
       "              predictor=None, random_state=None, ...)</pre></div></div></div></div></div>"
      ],
      "text/plain": [
       "XGBClassifier(base_score=None, booster=None, callbacks=None,\n",
       "              colsample_bylevel=None, colsample_bynode=None,\n",
       "              colsample_bytree=0.5, early_stopping_rounds=None,\n",
       "              enable_categorical=False, eval_metric=None, feature_types=None,\n",
       "              gamma=0, gpu_id=None, grow_policy=None, importance_type=None,\n",
       "              interaction_constraints=None, learning_rate=0.1, max_bin=None,\n",
       "              max_cat_threshold=None, max_cat_to_onehot=None,\n",
       "              max_delta_step=None, max_depth=4, max_leaves=None,\n",
       "              min_child_weight=None, missing=nan, monotone_constraints=None,\n",
       "              n_estimators=100, n_jobs=None, num_parallel_tree=None,\n",
       "              predictor=None, random_state=None, ...)"
      ]
     },
     "execution_count": 46,
     "metadata": {},
     "output_type": "execute_result"
    }
   ],
   "source": [
    "clf_xgb = xgb.XGBClassifier(objective='binary:logistic',gamma=0,learning_rate=0.1,max_depth=4,reg_lambda=0,\n",
    "                            scale_pos_weight=1,subsample=0.9,colsample_bytree=0.5,seed=42)\n",
    "\n",
    "clf_xgb.fit(X_train,y_train,early_stopping_rounds=10,eval_metric='aucpr',eval_set=[(X_test,y_test)],verbose=True)"
   ]
  },
  {
   "cell_type": "code",
   "execution_count": 54,
   "id": "ef8bbc53",
   "metadata": {},
   "outputs": [
    {
     "name": "stdout",
     "output_type": "stream",
     "text": [
      "[[1812 1107]\n",
      " [ 582 4275]]\n"
     ]
    }
   ],
   "source": [
    "from sklearn.metrics import accuracy_score,confusion_matrix,classification_report\n",
    "\n",
    "pred = clf_xgb.predict(X_test)\n",
    "\n",
    "\n",
    "matrix = confusion_matrix(y_test,pred)\n",
    "print(matrix)"
   ]
  },
  {
   "cell_type": "code",
   "execution_count": 55,
   "id": "e3f84983",
   "metadata": {},
   "outputs": [
    {
     "name": "stdout",
     "output_type": "stream",
     "text": [
      "0.7827932098765432\n"
     ]
    }
   ],
   "source": [
    "result = accuracy_score(y_test,pred)\n",
    "print(result)"
   ]
  },
  {
   "cell_type": "code",
   "execution_count": 66,
   "id": "c56b31b1",
   "metadata": {},
   "outputs": [
    {
     "data": {
      "text/html": [
       "<div>\n",
       "<style scoped>\n",
       "    .dataframe tbody tr th:only-of-type {\n",
       "        vertical-align: middle;\n",
       "    }\n",
       "\n",
       "    .dataframe tbody tr th {\n",
       "        vertical-align: top;\n",
       "    }\n",
       "\n",
       "    .dataframe thead th {\n",
       "        text-align: right;\n",
       "    }\n",
       "</style>\n",
       "<table border=\"1\" class=\"dataframe\">\n",
       "  <thead>\n",
       "    <tr style=\"text-align: right;\">\n",
       "      <th></th>\n",
       "      <th>ID1</th>\n",
       "      <th>Specific ailments</th>\n",
       "      <th>ID2</th>\n",
       "      <th>Food preference</th>\n",
       "      <th>Age</th>\n",
       "      <th>BMI</th>\n",
       "      <th>Smoker?</th>\n",
       "      <th>Living in?</th>\n",
       "      <th>Any heriditary condition?</th>\n",
       "      <th>Follow Diet</th>\n",
       "      <th>Physical activity</th>\n",
       "      <th>Regular sleeping hours</th>\n",
       "      <th>Alcohol consumption</th>\n",
       "      <th>Social interaction</th>\n",
       "      <th>Taking supplements</th>\n",
       "      <th>Mental health management</th>\n",
       "      <th>Illness count last year</th>\n",
       "    </tr>\n",
       "  </thead>\n",
       "  <tbody>\n",
       "    <tr>\n",
       "      <th>0</th>\n",
       "      <td>28534</td>\n",
       "      <td>2</td>\n",
       "      <td>3306</td>\n",
       "      <td>DX6</td>\n",
       "      <td>38</td>\n",
       "      <td>18.879331</td>\n",
       "      <td>YES</td>\n",
       "      <td>URBAN</td>\n",
       "      <td>Stable</td>\n",
       "      <td>0.0</td>\n",
       "      <td>0.0</td>\n",
       "      <td>0.0</td>\n",
       "      <td>0.0</td>\n",
       "      <td>0.0</td>\n",
       "      <td>1.0</td>\n",
       "      <td>0.0</td>\n",
       "      <td>1.0</td>\n",
       "    </tr>\n",
       "    <tr>\n",
       "      <th>1</th>\n",
       "      <td>7970</td>\n",
       "      <td>5</td>\n",
       "      <td>5573</td>\n",
       "      <td>DX1</td>\n",
       "      <td>46</td>\n",
       "      <td>21.231991</td>\n",
       "      <td>NO</td>\n",
       "      <td>URBAN</td>\n",
       "      <td>Stable</td>\n",
       "      <td>1.0</td>\n",
       "      <td>0.0</td>\n",
       "      <td>0.0</td>\n",
       "      <td>0.0</td>\n",
       "      <td>0.0</td>\n",
       "      <td>0.0</td>\n",
       "      <td>0.0</td>\n",
       "      <td>1.0</td>\n",
       "    </tr>\n",
       "    <tr>\n",
       "      <th>2</th>\n",
       "      <td>22039</td>\n",
       "      <td>37</td>\n",
       "      <td>9305</td>\n",
       "      <td>DX4</td>\n",
       "      <td>11</td>\n",
       "      <td>17.867876</td>\n",
       "      <td>NO</td>\n",
       "      <td>RURAL</td>\n",
       "      <td>Stable</td>\n",
       "      <td>1.0</td>\n",
       "      <td>0.0</td>\n",
       "      <td>0.0</td>\n",
       "      <td>0.0</td>\n",
       "      <td>0.0</td>\n",
       "      <td>0.0</td>\n",
       "      <td>0.0</td>\n",
       "      <td>1.0</td>\n",
       "    </tr>\n",
       "    <tr>\n",
       "      <th>3</th>\n",
       "      <td>12332</td>\n",
       "      <td>44</td>\n",
       "      <td>8274</td>\n",
       "      <td>DX5</td>\n",
       "      <td>10</td>\n",
       "      <td>26.886096</td>\n",
       "      <td>NO</td>\n",
       "      <td>RURAL</td>\n",
       "      <td>Stable</td>\n",
       "      <td>1.0</td>\n",
       "      <td>0.0</td>\n",
       "      <td>0.0</td>\n",
       "      <td>1.0</td>\n",
       "      <td>0.0</td>\n",
       "      <td>0.0</td>\n",
       "      <td>0.0</td>\n",
       "      <td>2.0</td>\n",
       "    </tr>\n",
       "    <tr>\n",
       "      <th>4</th>\n",
       "      <td>4116</td>\n",
       "      <td>37</td>\n",
       "      <td>4558</td>\n",
       "      <td>DX3 DX4</td>\n",
       "      <td>3</td>\n",
       "      <td>23.362746</td>\n",
       "      <td>NO</td>\n",
       "      <td>RURAL</td>\n",
       "      <td>Stable</td>\n",
       "      <td>0.0</td>\n",
       "      <td>1.0</td>\n",
       "      <td>0.0</td>\n",
       "      <td>1.0</td>\n",
       "      <td>0.0</td>\n",
       "      <td>0.0</td>\n",
       "      <td>0.0</td>\n",
       "      <td>2.0</td>\n",
       "    </tr>\n",
       "  </tbody>\n",
       "</table>\n",
       "</div>"
      ],
      "text/plain": [
       "     ID1  Specific ailments   ID2 Food preference  Age        BMI Smoker?  \\\n",
       "0  28534                  2  3306             DX6   38  18.879331     YES   \n",
       "1   7970                  5  5573            DX1    46  21.231991      NO   \n",
       "2  22039                 37  9305            DX4    11  17.867876      NO   \n",
       "3  12332                 44  8274            DX5    10  26.886096      NO   \n",
       "4   4116                 37  4558        DX3 DX4     3  23.362746      NO   \n",
       "\n",
       "  Living in? Any heriditary condition?  Follow Diet  Physical activity  \\\n",
       "0      URBAN                    Stable          0.0                0.0   \n",
       "1      URBAN                    Stable          1.0                0.0   \n",
       "2      RURAL                    Stable          1.0                0.0   \n",
       "3      RURAL                    Stable          1.0                0.0   \n",
       "4      RURAL                    Stable          0.0                1.0   \n",
       "\n",
       "   Regular sleeping hours  Alcohol consumption  Social interaction  \\\n",
       "0                     0.0                  0.0                 0.0   \n",
       "1                     0.0                  0.0                 0.0   \n",
       "2                     0.0                  0.0                 0.0   \n",
       "3                     0.0                  1.0                 0.0   \n",
       "4                     0.0                  1.0                 0.0   \n",
       "\n",
       "   Taking supplements  Mental health management  Illness count last year  \n",
       "0                 1.0                       0.0                      1.0  \n",
       "1                 0.0                       0.0                      1.0  \n",
       "2                 0.0                       0.0                      1.0  \n",
       "3                 0.0                       0.0                      2.0  \n",
       "4                 0.0                       0.0                      2.0  "
      ]
     },
     "execution_count": 66,
     "metadata": {},
     "output_type": "execute_result"
    }
   ],
   "source": [
    "# importing the testing dataset\n",
    "\n",
    "test_df = pd.read_csv('Test_Data (1).csv')\n",
    "test_df.head()"
   ]
  },
  {
   "cell_type": "code",
   "execution_count": 67,
   "id": "34fdff9c",
   "metadata": {},
   "outputs": [
    {
     "data": {
      "text/plain": [
       "ID1                            0\n",
       "Specific ailments              0\n",
       "ID2                            0\n",
       "Food preference                3\n",
       "Age                            0\n",
       "BMI                            0\n",
       "Smoker?                        0\n",
       "Living in?                     0\n",
       "Any heriditary condition?      0\n",
       "Follow Diet                  262\n",
       "Physical activity            262\n",
       "Regular sleeping hours       262\n",
       "Alcohol consumption          262\n",
       "Social interaction           262\n",
       "Taking supplements           262\n",
       "Mental health management     262\n",
       "Illness count last year      262\n",
       "dtype: int64"
      ]
     },
     "execution_count": 67,
     "metadata": {},
     "output_type": "execute_result"
    }
   ],
   "source": [
    "test_df.isnull().sum()"
   ]
  },
  {
   "cell_type": "code",
   "execution_count": 68,
   "id": "05f841ad",
   "metadata": {},
   "outputs": [
    {
     "data": {
      "text/plain": [
       "ID1                          0\n",
       "Specific ailments            0\n",
       "ID2                          0\n",
       "Food preference              3\n",
       "Age                          0\n",
       "BMI                          0\n",
       "Smoker?                      0\n",
       "Living in?                   0\n",
       "Any heriditary condition?    0\n",
       "Follow Diet                  0\n",
       "Physical activity            0\n",
       "Regular sleeping hours       0\n",
       "Alcohol consumption          0\n",
       "Social interaction           0\n",
       "Taking supplements           0\n",
       "Mental health management     0\n",
       "Illness count last year      0\n",
       "dtype: int64"
      ]
     },
     "execution_count": 68,
     "metadata": {},
     "output_type": "execute_result"
    }
   ],
   "source": [
    "test_df[['Follow Diet','Physical activity','Regular sleeping hours', 'Alcohol consumption',\n",
    "        'Social interaction', 'Taking supplements', 'Mental health management','Illness count last year']] = test_df[['Follow Diet','Physical activity','Regular sleeping hours', 'Alcohol consumption',\n",
    "        'Social interaction', 'Taking supplements', 'Mental health management','Illness count last year']].fillna(test_df[['Follow Diet','Physical activity','Regular sleeping hours', 'Alcohol consumption',\n",
    "        'Social interaction', 'Taking supplements', 'Mental health management','Illness count last year']].median())\n",
    "\n",
    "test_df.isnull().sum()"
   ]
  },
  {
   "cell_type": "code",
   "execution_count": 69,
   "id": "794d2918",
   "metadata": {},
   "outputs": [
    {
     "data": {
      "text/plain": [
       "array(['DX6', 'DX1 ', 'DX4 ', 'DX5 ', 'DX3 DX4 ', 'DX2 ', 'DX3 ',\n",
       "       'DX3 DX5 ', 'DX2 DX4 ', 'DX1 DX3 ', 'DX1 DX4 ', 'DX1 DX5 ',\n",
       "       'DX3 DX4 DX5 ', 'DX2 DX5 ', 'DX2 DX3 ', 'DX4 DX5 ', 'DX1 DX2 DX5 ',\n",
       "       'DX1 DX2 ', 'DX1 DX3 DX4 ', 'DX2 DX3 DX4 ', 'DX1 DX3 DX5 ',\n",
       "       'DX2 DX4 DX5 ', 'DX1 DX2 DX4 DX5 ', 'DX1 DX4 DX5 ', 'DX2 DX3 DX5 ',\n",
       "       nan, 'DX1 DX2 DX3 ', 'DX1 DX2 DX4 ', 'DX1 DX2 DX3 DX4 ',\n",
       "       'DX1 DX3 DX4 DX5 ', 'DX2 DX3 DX4 DX5 ', 'DX1 DX2 DX3 DX4 DX5 ',\n",
       "       'DX1 DX2 DX3 DX5 '], dtype=object)"
      ]
     },
     "execution_count": 69,
     "metadata": {},
     "output_type": "execute_result"
    }
   ],
   "source": [
    "test_df['Food preference'].unique()"
   ]
  },
  {
   "cell_type": "code",
   "execution_count": 70,
   "id": "632ff87d",
   "metadata": {},
   "outputs": [
    {
     "data": {
      "text/html": [
       "<div>\n",
       "<style scoped>\n",
       "    .dataframe tbody tr th:only-of-type {\n",
       "        vertical-align: middle;\n",
       "    }\n",
       "\n",
       "    .dataframe tbody tr th {\n",
       "        vertical-align: top;\n",
       "    }\n",
       "\n",
       "    .dataframe thead th {\n",
       "        text-align: right;\n",
       "    }\n",
       "</style>\n",
       "<table border=\"1\" class=\"dataframe\">\n",
       "  <thead>\n",
       "    <tr style=\"text-align: right;\">\n",
       "      <th></th>\n",
       "      <th>Specific ailments</th>\n",
       "      <th>Age</th>\n",
       "      <th>BMI</th>\n",
       "      <th>Smoker?</th>\n",
       "      <th>Living in?</th>\n",
       "      <th>Any heriditary condition?</th>\n",
       "      <th>Follow Diet</th>\n",
       "      <th>Physical activity</th>\n",
       "      <th>Regular sleeping hours</th>\n",
       "      <th>Alcohol consumption</th>\n",
       "      <th>Social interaction</th>\n",
       "      <th>Taking supplements</th>\n",
       "      <th>Mental health management</th>\n",
       "      <th>Illness count last year</th>\n",
       "    </tr>\n",
       "  </thead>\n",
       "  <tbody>\n",
       "    <tr>\n",
       "      <th>0</th>\n",
       "      <td>2</td>\n",
       "      <td>38</td>\n",
       "      <td>18.879331</td>\n",
       "      <td>YES</td>\n",
       "      <td>URBAN</td>\n",
       "      <td>Stable</td>\n",
       "      <td>0.0</td>\n",
       "      <td>0.0</td>\n",
       "      <td>0.0</td>\n",
       "      <td>0.0</td>\n",
       "      <td>0.0</td>\n",
       "      <td>1.0</td>\n",
       "      <td>0.0</td>\n",
       "      <td>1.0</td>\n",
       "    </tr>\n",
       "    <tr>\n",
       "      <th>1</th>\n",
       "      <td>5</td>\n",
       "      <td>46</td>\n",
       "      <td>21.231991</td>\n",
       "      <td>NO</td>\n",
       "      <td>URBAN</td>\n",
       "      <td>Stable</td>\n",
       "      <td>1.0</td>\n",
       "      <td>0.0</td>\n",
       "      <td>0.0</td>\n",
       "      <td>0.0</td>\n",
       "      <td>0.0</td>\n",
       "      <td>0.0</td>\n",
       "      <td>0.0</td>\n",
       "      <td>1.0</td>\n",
       "    </tr>\n",
       "    <tr>\n",
       "      <th>2</th>\n",
       "      <td>37</td>\n",
       "      <td>11</td>\n",
       "      <td>17.867876</td>\n",
       "      <td>NO</td>\n",
       "      <td>RURAL</td>\n",
       "      <td>Stable</td>\n",
       "      <td>1.0</td>\n",
       "      <td>0.0</td>\n",
       "      <td>0.0</td>\n",
       "      <td>0.0</td>\n",
       "      <td>0.0</td>\n",
       "      <td>0.0</td>\n",
       "      <td>0.0</td>\n",
       "      <td>1.0</td>\n",
       "    </tr>\n",
       "    <tr>\n",
       "      <th>3</th>\n",
       "      <td>44</td>\n",
       "      <td>10</td>\n",
       "      <td>26.886096</td>\n",
       "      <td>NO</td>\n",
       "      <td>RURAL</td>\n",
       "      <td>Stable</td>\n",
       "      <td>1.0</td>\n",
       "      <td>0.0</td>\n",
       "      <td>0.0</td>\n",
       "      <td>1.0</td>\n",
       "      <td>0.0</td>\n",
       "      <td>0.0</td>\n",
       "      <td>0.0</td>\n",
       "      <td>2.0</td>\n",
       "    </tr>\n",
       "    <tr>\n",
       "      <th>4</th>\n",
       "      <td>37</td>\n",
       "      <td>3</td>\n",
       "      <td>23.362746</td>\n",
       "      <td>NO</td>\n",
       "      <td>RURAL</td>\n",
       "      <td>Stable</td>\n",
       "      <td>0.0</td>\n",
       "      <td>1.0</td>\n",
       "      <td>0.0</td>\n",
       "      <td>1.0</td>\n",
       "      <td>0.0</td>\n",
       "      <td>0.0</td>\n",
       "      <td>0.0</td>\n",
       "      <td>2.0</td>\n",
       "    </tr>\n",
       "  </tbody>\n",
       "</table>\n",
       "</div>"
      ],
      "text/plain": [
       "   Specific ailments  Age        BMI Smoker? Living in?  \\\n",
       "0                  2   38  18.879331     YES      URBAN   \n",
       "1                  5   46  21.231991      NO      URBAN   \n",
       "2                 37   11  17.867876      NO      RURAL   \n",
       "3                 44   10  26.886096      NO      RURAL   \n",
       "4                 37    3  23.362746      NO      RURAL   \n",
       "\n",
       "  Any heriditary condition?  Follow Diet  Physical activity  \\\n",
       "0                    Stable          0.0                0.0   \n",
       "1                    Stable          1.0                0.0   \n",
       "2                    Stable          1.0                0.0   \n",
       "3                    Stable          1.0                0.0   \n",
       "4                    Stable          0.0                1.0   \n",
       "\n",
       "   Regular sleeping hours  Alcohol consumption  Social interaction  \\\n",
       "0                     0.0                  0.0                 0.0   \n",
       "1                     0.0                  0.0                 0.0   \n",
       "2                     0.0                  0.0                 0.0   \n",
       "3                     0.0                  1.0                 0.0   \n",
       "4                     0.0                  1.0                 0.0   \n",
       "\n",
       "   Taking supplements  Mental health management  Illness count last year  \n",
       "0                 1.0                       0.0                      1.0  \n",
       "1                 0.0                       0.0                      1.0  \n",
       "2                 0.0                       0.0                      1.0  \n",
       "3                 0.0                       0.0                      2.0  \n",
       "4                 0.0                       0.0                      2.0  "
      ]
     },
     "execution_count": 70,
     "metadata": {},
     "output_type": "execute_result"
    }
   ],
   "source": [
    "test_df.drop(['ID1','ID2','Food preference'],axis=1,inplace=True)\n",
    "test_df.head()"
   ]
  },
  {
   "cell_type": "code",
   "execution_count": 71,
   "id": "5341ed43",
   "metadata": {},
   "outputs": [
    {
     "data": {
      "text/plain": [
       "Specific ailments            0\n",
       "Age                          0\n",
       "BMI                          0\n",
       "Smoker?                      0\n",
       "Living in?                   0\n",
       "Any heriditary condition?    0\n",
       "Follow Diet                  0\n",
       "Physical activity            0\n",
       "Regular sleeping hours       0\n",
       "Alcohol consumption          0\n",
       "Social interaction           0\n",
       "Taking supplements           0\n",
       "Mental health management     0\n",
       "Illness count last year      0\n",
       "dtype: int64"
      ]
     },
     "execution_count": 71,
     "metadata": {},
     "output_type": "execute_result"
    }
   ],
   "source": [
    "test_df.isnull().sum()"
   ]
  },
  {
   "cell_type": "code",
   "execution_count": 72,
   "id": "d608bae5",
   "metadata": {},
   "outputs": [
    {
     "data": {
      "text/html": [
       "<div>\n",
       "<style scoped>\n",
       "    .dataframe tbody tr th:only-of-type {\n",
       "        vertical-align: middle;\n",
       "    }\n",
       "\n",
       "    .dataframe tbody tr th {\n",
       "        vertical-align: top;\n",
       "    }\n",
       "\n",
       "    .dataframe thead th {\n",
       "        text-align: right;\n",
       "    }\n",
       "</style>\n",
       "<table border=\"1\" class=\"dataframe\">\n",
       "  <thead>\n",
       "    <tr style=\"text-align: right;\">\n",
       "      <th></th>\n",
       "      <th>Specific ailments</th>\n",
       "      <th>Age</th>\n",
       "      <th>BMI</th>\n",
       "      <th>Follow Diet</th>\n",
       "      <th>Physical activity</th>\n",
       "      <th>Regular sleeping hours</th>\n",
       "      <th>Alcohol consumption</th>\n",
       "      <th>Social interaction</th>\n",
       "      <th>Taking supplements</th>\n",
       "      <th>Mental health management</th>\n",
       "      <th>Illness count last year</th>\n",
       "      <th>Smoker?_Cannot say</th>\n",
       "      <th>Smoker?_NO</th>\n",
       "      <th>Smoker?_YES</th>\n",
       "      <th>Living in?_RURAL</th>\n",
       "      <th>Living in?_URBAN</th>\n",
       "      <th>Any heriditary condition?_Stable</th>\n",
       "    </tr>\n",
       "  </thead>\n",
       "  <tbody>\n",
       "    <tr>\n",
       "      <th>0</th>\n",
       "      <td>2</td>\n",
       "      <td>38</td>\n",
       "      <td>18.879331</td>\n",
       "      <td>0.0</td>\n",
       "      <td>0.0</td>\n",
       "      <td>0.0</td>\n",
       "      <td>0.0</td>\n",
       "      <td>0.0</td>\n",
       "      <td>1.0</td>\n",
       "      <td>0.0</td>\n",
       "      <td>1.0</td>\n",
       "      <td>0</td>\n",
       "      <td>0</td>\n",
       "      <td>1</td>\n",
       "      <td>0</td>\n",
       "      <td>1</td>\n",
       "      <td>1</td>\n",
       "    </tr>\n",
       "    <tr>\n",
       "      <th>1</th>\n",
       "      <td>5</td>\n",
       "      <td>46</td>\n",
       "      <td>21.231991</td>\n",
       "      <td>1.0</td>\n",
       "      <td>0.0</td>\n",
       "      <td>0.0</td>\n",
       "      <td>0.0</td>\n",
       "      <td>0.0</td>\n",
       "      <td>0.0</td>\n",
       "      <td>0.0</td>\n",
       "      <td>1.0</td>\n",
       "      <td>0</td>\n",
       "      <td>1</td>\n",
       "      <td>0</td>\n",
       "      <td>0</td>\n",
       "      <td>1</td>\n",
       "      <td>1</td>\n",
       "    </tr>\n",
       "    <tr>\n",
       "      <th>2</th>\n",
       "      <td>37</td>\n",
       "      <td>11</td>\n",
       "      <td>17.867876</td>\n",
       "      <td>1.0</td>\n",
       "      <td>0.0</td>\n",
       "      <td>0.0</td>\n",
       "      <td>0.0</td>\n",
       "      <td>0.0</td>\n",
       "      <td>0.0</td>\n",
       "      <td>0.0</td>\n",
       "      <td>1.0</td>\n",
       "      <td>0</td>\n",
       "      <td>1</td>\n",
       "      <td>0</td>\n",
       "      <td>1</td>\n",
       "      <td>0</td>\n",
       "      <td>1</td>\n",
       "    </tr>\n",
       "    <tr>\n",
       "      <th>3</th>\n",
       "      <td>44</td>\n",
       "      <td>10</td>\n",
       "      <td>26.886096</td>\n",
       "      <td>1.0</td>\n",
       "      <td>0.0</td>\n",
       "      <td>0.0</td>\n",
       "      <td>1.0</td>\n",
       "      <td>0.0</td>\n",
       "      <td>0.0</td>\n",
       "      <td>0.0</td>\n",
       "      <td>2.0</td>\n",
       "      <td>0</td>\n",
       "      <td>1</td>\n",
       "      <td>0</td>\n",
       "      <td>1</td>\n",
       "      <td>0</td>\n",
       "      <td>1</td>\n",
       "    </tr>\n",
       "    <tr>\n",
       "      <th>4</th>\n",
       "      <td>37</td>\n",
       "      <td>3</td>\n",
       "      <td>23.362746</td>\n",
       "      <td>0.0</td>\n",
       "      <td>1.0</td>\n",
       "      <td>0.0</td>\n",
       "      <td>1.0</td>\n",
       "      <td>0.0</td>\n",
       "      <td>0.0</td>\n",
       "      <td>0.0</td>\n",
       "      <td>2.0</td>\n",
       "      <td>0</td>\n",
       "      <td>1</td>\n",
       "      <td>0</td>\n",
       "      <td>1</td>\n",
       "      <td>0</td>\n",
       "      <td>1</td>\n",
       "    </tr>\n",
       "  </tbody>\n",
       "</table>\n",
       "</div>"
      ],
      "text/plain": [
       "   Specific ailments  Age        BMI  Follow Diet  Physical activity  \\\n",
       "0                  2   38  18.879331          0.0                0.0   \n",
       "1                  5   46  21.231991          1.0                0.0   \n",
       "2                 37   11  17.867876          1.0                0.0   \n",
       "3                 44   10  26.886096          1.0                0.0   \n",
       "4                 37    3  23.362746          0.0                1.0   \n",
       "\n",
       "   Regular sleeping hours  Alcohol consumption  Social interaction  \\\n",
       "0                     0.0                  0.0                 0.0   \n",
       "1                     0.0                  0.0                 0.0   \n",
       "2                     0.0                  0.0                 0.0   \n",
       "3                     0.0                  1.0                 0.0   \n",
       "4                     0.0                  1.0                 0.0   \n",
       "\n",
       "   Taking supplements  Mental health management  Illness count last year  \\\n",
       "0                 1.0                       0.0                      1.0   \n",
       "1                 0.0                       0.0                      1.0   \n",
       "2                 0.0                       0.0                      1.0   \n",
       "3                 0.0                       0.0                      2.0   \n",
       "4                 0.0                       0.0                      2.0   \n",
       "\n",
       "   Smoker?_Cannot say  Smoker?_NO  Smoker?_YES  Living in?_RURAL  \\\n",
       "0                   0           0            1                 0   \n",
       "1                   0           1            0                 0   \n",
       "2                   0           1            0                 1   \n",
       "3                   0           1            0                 1   \n",
       "4                   0           1            0                 1   \n",
       "\n",
       "   Living in?_URBAN  Any heriditary condition?_Stable  \n",
       "0                 1                                 1  \n",
       "1                 1                                 1  \n",
       "2                 0                                 1  \n",
       "3                 0                                 1  \n",
       "4                 0                                 1  "
      ]
     },
     "execution_count": 72,
     "metadata": {},
     "output_type": "execute_result"
    }
   ],
   "source": [
    "test_df = pd.get_dummies(test_df,['Smoker?','Living in?','Any heriditary condition?'])\n",
    "test_df.head()"
   ]
  },
  {
   "cell_type": "code",
   "execution_count": 73,
   "id": "4f95e203",
   "metadata": {},
   "outputs": [
    {
     "data": {
      "text/plain": [
       "array([1, 1, 1, ..., 1, 0, 0])"
      ]
     },
     "execution_count": 73,
     "metadata": {},
     "output_type": "execute_result"
    }
   ],
   "source": [
    "test_predict = clf_xgb.predict(test_df)\n",
    "\n",
    "test_predict"
   ]
  },
  {
   "cell_type": "code",
   "execution_count": 82,
   "id": "5641e148",
   "metadata": {},
   "outputs": [],
   "source": [
    "sample_submission = pd.DataFrame(test_predict,columns=['predictions'])"
   ]
  },
  {
   "cell_type": "code",
   "execution_count": 85,
   "id": "ebc4750b",
   "metadata": {},
   "outputs": [
    {
     "data": {
      "text/html": [
       "<div>\n",
       "<style scoped>\n",
       "    .dataframe tbody tr th:only-of-type {\n",
       "        vertical-align: middle;\n",
       "    }\n",
       "\n",
       "    .dataframe tbody tr th {\n",
       "        vertical-align: top;\n",
       "    }\n",
       "\n",
       "    .dataframe thead th {\n",
       "        text-align: right;\n",
       "    }\n",
       "</style>\n",
       "<table border=\"1\" class=\"dataframe\">\n",
       "  <thead>\n",
       "    <tr style=\"text-align: right;\">\n",
       "      <th></th>\n",
       "      <th>predictions</th>\n",
       "    </tr>\n",
       "  </thead>\n",
       "  <tbody>\n",
       "    <tr>\n",
       "      <th>0</th>\n",
       "      <td>1</td>\n",
       "    </tr>\n",
       "    <tr>\n",
       "      <th>1</th>\n",
       "      <td>1</td>\n",
       "    </tr>\n",
       "    <tr>\n",
       "      <th>2</th>\n",
       "      <td>1</td>\n",
       "    </tr>\n",
       "    <tr>\n",
       "      <th>3</th>\n",
       "      <td>1</td>\n",
       "    </tr>\n",
       "    <tr>\n",
       "      <th>4</th>\n",
       "      <td>1</td>\n",
       "    </tr>\n",
       "    <tr>\n",
       "      <th>...</th>\n",
       "      <td>...</td>\n",
       "    </tr>\n",
       "    <tr>\n",
       "      <th>6475</th>\n",
       "      <td>0</td>\n",
       "    </tr>\n",
       "    <tr>\n",
       "      <th>6476</th>\n",
       "      <td>1</td>\n",
       "    </tr>\n",
       "    <tr>\n",
       "      <th>6477</th>\n",
       "      <td>1</td>\n",
       "    </tr>\n",
       "    <tr>\n",
       "      <th>6478</th>\n",
       "      <td>0</td>\n",
       "    </tr>\n",
       "    <tr>\n",
       "      <th>6479</th>\n",
       "      <td>0</td>\n",
       "    </tr>\n",
       "  </tbody>\n",
       "</table>\n",
       "<p>6480 rows × 1 columns</p>\n",
       "</div>"
      ],
      "text/plain": [
       "      predictions\n",
       "0               1\n",
       "1               1\n",
       "2               1\n",
       "3               1\n",
       "4               1\n",
       "...           ...\n",
       "6475            0\n",
       "6476            1\n",
       "6477            1\n",
       "6478            0\n",
       "6479            0\n",
       "\n",
       "[6480 rows x 1 columns]"
      ]
     },
     "execution_count": 85,
     "metadata": {},
     "output_type": "execute_result"
    }
   ],
   "source": [
    "sample_submission"
   ]
  },
  {
   "cell_type": "code",
   "execution_count": 86,
   "id": "b0851b00",
   "metadata": {},
   "outputs": [],
   "source": [
    "sample_submission.to_csv('prediction_argha.csv')"
   ]
  },
  {
   "cell_type": "code",
   "execution_count": null,
   "id": "f405e56c",
   "metadata": {},
   "outputs": [],
   "source": []
  }
 ],
 "metadata": {
  "kernelspec": {
   "display_name": "Python 3 (ipykernel)",
   "language": "python",
   "name": "python3"
  },
  "language_info": {
   "codemirror_mode": {
    "name": "ipython",
    "version": 3
   },
   "file_extension": ".py",
   "mimetype": "text/x-python",
   "name": "python",
   "nbconvert_exporter": "python",
   "pygments_lexer": "ipython3",
   "version": "3.10.9"
  }
 },
 "nbformat": 4,
 "nbformat_minor": 5
}
